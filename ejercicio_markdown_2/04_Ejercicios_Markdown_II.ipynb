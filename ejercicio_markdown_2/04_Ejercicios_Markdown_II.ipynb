{
 "cells": [
  {
   "cell_type": "markdown",
   "id": "f3c71d9a-4933-41ca-badb-c6256248dcf6",
   "metadata": {
    "id": "c49ba49d"
   },
   "source": [
    "<img src=\"./img/logo_rojo_thebridge.jpg\" alt=\"Logo The Bridge\" width=\"100\">"
   ]
  },
  {
   "cell_type": "markdown",
   "id": "22ff8a1a",
   "metadata": {
    "id": "22ff8a1a"
   },
   "source": [
    "# EJERCICIOS MARKDOWN (II)"
   ]
  },
  {
   "cell_type": "markdown",
   "id": "d626df26",
   "metadata": {
    "id": "d626df26"
   },
   "source": [
    "Aquí tienes cinco sencillos ejercicios para practicar lo aprendido en la segundasesión de Markdown. Como en el anterior, utiliza las celdas que hay debajo dec cada enunciado y recuerda convertirlas a Markdown primero ;-)\n",
    "\n",
    "Si algunos ejercicios no los entiendes de primeras, dales una vuelta, busca pistas, busca en Internet... pero todavía no le preguntes a ChatGPT... Recuerda con dudas teóricas corre a preguntar, con los ejercicios exprimete antes de preguntar."
   ]
  },
  {
   "cell_type": "markdown",
   "id": "b2efd92f",
   "metadata": {
    "id": "b2efd92f"
   },
   "source": [
    "### Ejercicio 6: Listas\n",
    "Crea una lista no ordenada con los siguientes elementos:\n",
    "\n",
    "1. Manzanas\n",
    "2. Plátanos\n",
    "3. Uvas"
   ]
  },
  {
   "cell_type": "markdown",
   "id": "01caf207-3b13-47fa-821b-1d286b902b6c",
   "metadata": {
    "id": "a20102cb"
   },
   "source": [
    "### Lista no ordenada\n",
    "* Manzanas. \n",
    "* Plátanos. \n",
    "* Uvas. "
   ]
  },
  {
   "cell_type": "markdown",
   "id": "c8c2ff80",
   "metadata": {
    "id": "c8c2ff80"
   },
   "source": [
    "Crea ahora una lista ordenada de 1 a 3 y que además lo esté alfabéticamente con estos elementos:\n",
    "\n",
    "    * Arbol binario\n",
    "    * Random Forest\n",
    "    * Regresión Logística"
   ]
  },
  {
   "cell_type": "markdown",
   "id": "a426837f-62cf-49ba-9497-c31f31e053c1",
   "metadata": {
    "id": "e5af15ee"
   },
   "source": [
    "### Lista ordenada\n",
    "1. Árbol binario  \n",
    "2. Random Forest  \n",
    "3. Regresión Logística "
   ]
  },
  {
   "cell_type": "markdown",
   "id": "2c65c04a",
   "metadata": {
    "id": "2c65c04a"
   },
   "source": [
    "### Ejercicio 7: Listas Anidadas\n",
    "Bajo el título \"Frutas y Verduras\", crea una lista ordenada de frutas, y dentro de esta, anida una lista no ordenada de tres frutas. Luego, crea otra lista ordenada de verduras y anida dentro de ella una lista no ordenada de tres verduras.\n",
    "\n",
    "Las listas anidadas no las hemos visto pero seguro que con esto te haces una idea, como con los subrayados en los ejercicios de la primera parte:\n",
    "1. El elemento con orden\n",
    "* Aquí sin orden\n",
    "2. El siguiente\n",
    "* Pico\n",
    "* Pala\n"
   ]
  },
  {
   "cell_type": "markdown",
   "id": "dd558687-3d4b-457d-99b4-7987b2de3f33",
   "metadata": {
    "id": "0fc171fc"
   },
   "source": [
    "# Listado Frutas y Verduras\n",
    "\n",
    "## Frutas\n",
    "1. Frutas tropicales\n",
    "   - Mango\n",
    "   - Piña\n",
    "   - Papaya\n",
    "2. Frutas cítricas\n",
    "   - Naranja\n",
    "   - Limón\n",
    "   - Mandarina\n",
    "\n",
    "## Verduras\n",
    "1. Verduras de hoja verde\n",
    "   - Espinaca\n",
    "   - Lechuga\n",
    "   - Acelga\n",
    "2. Verduras de raíz\n",
    "   - Zanahoria\n",
    "   - Remolacha\n",
    "   - Nabo"
   ]
  },
  {
   "cell_type": "markdown",
   "id": "e224fbf7",
   "metadata": {
    "id": "e224fbf7"
   },
   "source": [
    "### Ejercicio 8: Enlaces e Imágenes\n",
    "Inserta:\n",
    "\n",
    "1. Un enlace que lleve a \"www.thebridge.com\" con el texto \"Por aquí se cruzan puentes\".\n",
    "2. Una imagen de cualquier URL con el texto alternativo \"Logo\". Recuerda que puedes hacerlo referenciando la imagen a través de su ruta en tu ordenador, o bien incrustandola en el notebook\n"
   ]
  },
  {
   "cell_type": "markdown",
   "id": "3af8f99f-05de-41e1-8673-285e918ccd46",
   "metadata": {
    "id": "2bcc0287"
   },
   "source": [
    "[Por aquí se cruzan puentes](www.thebridge.com).  \n",
    "\n",
    "![Logo](https://cdn.prod.website-files.com/66ead768d2f542480e7742f4/66ead768d2f542480e77434f_logo_bbk_bootcamps_thebridge_positivo.svg)"
   ]
  },
  {
   "cell_type": "markdown",
   "id": "94e48fe3",
   "metadata": {
    "id": "94e48fe3"
   },
   "source": [
    "### Ejercicio 9: Líneas Horizontales y Bloques de Código\n",
    "Inserta:\n",
    "\n",
    "1. Un bloque de código en Python que imprima \"Hola Mundo\" (pista: print(\"Hola Mundo\")) entre dos líneas horizontales, cada una creada con un método diferente."
   ]
  },
  {
   "cell_type": "markdown",
   "id": "c896f2df-e423-4180-a478-214d12d0da66",
   "metadata": {
    "id": "qogO5U51Lcmm"
   },
   "source": [
    "---"
   ]
  },
  {
   "cell_type": "markdown",
   "id": "2fd19f7d-1586-47c2-b073-f7b29de4dce6",
   "metadata": {
    "id": "9d31a21a"
   },
   "source": [
    "```python\n",
    "print(\"Hola Mundo\")"
   ]
  },
  {
   "cell_type": "markdown",
   "id": "35f7fc1d-64b4-4432-8772-d7f3ab9fd106",
   "metadata": {
    "id": "9d31a21a"
   },
   "source": [
    "---"
   ]
  }
 ],
 "metadata": {
  "colab": {
   "provenance": []
  },
  "kernelspec": {
   "display_name": "Python 3 (ipykernel)",
   "language": "python",
   "name": "python3"
  },
  "language_info": {
   "codemirror_mode": {
    "name": "ipython",
    "version": 3
   },
   "file_extension": ".py",
   "mimetype": "text/x-python",
   "name": "python",
   "nbconvert_exporter": "python",
   "pygments_lexer": "ipython3",
   "version": "3.13.1"
  }
 },
 "nbformat": 4,
 "nbformat_minor": 5
}

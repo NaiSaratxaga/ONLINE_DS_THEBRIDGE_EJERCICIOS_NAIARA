{
 "cells": [
  {
   "cell_type": "code",
   "execution_count": 1,
   "id": "8459ca5c-293c-4f71-91e7-9051404dfd65",
   "metadata": {},
   "outputs": [
    {
     "name": "stdout",
     "output_type": "stream",
     "text": [
      "Hola Mundo\n"
     ]
    }
   ],
   "source": [
    "print(\"Hola Mundo\")"
   ]
  },
  {
   "cell_type": "markdown",
   "id": "35404372-0f12-42c4-ba37-aa68623758bb",
   "metadata": {},
   "source": [
    "# Mis primeros pasos con Markdown..\n",
    "son muy buenos..."
   ]
  },
  {
   "cell_type": "markdown",
   "id": "38db6fe3-60a2-4289-92ad-c49462816615",
   "metadata": {},
   "source": [
    "# Cabecera 1\n",
    "## Cabecera 2"
   ]
  },
  {
   "cell_type": "code",
   "execution_count": null,
   "id": "f7af6a72-d198-4fbb-80a0-c35dacb13b9f",
   "metadata": {},
   "outputs": [],
   "source": []
  },
  {
   "cell_type": "markdown",
   "id": "f6b3c3e1-9fbd-4021-b446-e0f66d8ebbfa",
   "metadata": {},
   "source": []
  },
  {
   "cell_type": "code",
   "execution_count": null,
   "id": "ff940c0f-8062-4383-9d96-182c7a06bdb6",
   "metadata": {},
   "outputs": [],
   "source": []
  }
 ],
 "metadata": {
  "kernelspec": {
   "display_name": "Python 3 (ipykernel)",
   "language": "python",
   "name": "python3"
  },
  "language_info": {
   "codemirror_mode": {
    "name": "ipython",
    "version": 3
   },
   "file_extension": ".py",
   "mimetype": "text/x-python",
   "name": "python",
   "nbconvert_exporter": "python",
   "pygments_lexer": "ipython3",
   "version": "3.13.1"
  }
 },
 "nbformat": 4,
 "nbformat_minor": 5
}

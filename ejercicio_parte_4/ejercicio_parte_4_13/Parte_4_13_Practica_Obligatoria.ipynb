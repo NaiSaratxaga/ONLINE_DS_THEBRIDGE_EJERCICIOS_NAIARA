{
 "cells": [
  {
   "cell_type": "markdown",
   "metadata": {
    "id": "BNCAebJANPxq"
   },
   "source": [
    "<img src=\"https://campusvirtual.thebridge.tech/pluginfile.php/1/core_admin/logocompact/300x300/1734003960/logo.png\" alt=\"Logo Thr Bridge\" width=\"300\"> "
   ]
  },
  {
   "cell_type": "markdown",
   "metadata": {
    "id": "59zPhBxXNPxs"
   },
   "source": [
    "## PRACTICA OBLIGATORIA: PYTHON"
   ]
  },
  {
   "cell_type": "markdown",
   "metadata": {
    "id": "mv2kb1GMNPxs"
   },
   "source": [
    "* La práctica obligatoria de esta unidad consiste en dos ejercicios de programación libre a completar.   \n",
    "* Recuerda que debes subirla a tu repositorio personal antes de la sesión en vivo para que puntúe adecuadamente.  \n",
    "* Recuerda también que no es necesario que esté perfecta, sólo es necesario que se vea el esfuerzo.\n",
    "* Esta práctica se resolverá en la sesión en vivo correspondiente y la solución se publicará en el repo del curso."
   ]
  },
  {
   "cell_type": "markdown",
   "metadata": {
    "id": "Kl9JzST2NPxt"
   },
   "source": [
    "---\n",
    "## PARTE I\n",
    "\n",
    "En este ejercicio debes simular un chatbot al que le haremos pedidos de pizzas.\n",
    "\n",
    "1. El chatbot tiene que saludar con un: \"Buenas tardes, bienvenido al servicio de pedido online, el precio de nuestra pizzas es de 8,95 para la familiar o de 9,90 para la mediana ¿Cuántas pizzas  familiares desea?\"\n",
    "2. El ususario tiene que introducir un número de pizzas en una variable llamada 'pizz_familiar'\n",
    "3. El chatbot debe responder: \"Estupendo, ¿cuántas pizzas medianas desea?\" y guardar el número de pizzas medianas en otra variable 'pizz_mediana'\n",
    "4. Además debe responder del chatbot: \"Estupendo, se están preparando 'pizz' pizzas familiares y 'pizz_mediana' pizzas medianas. Digame su dirección\"\n",
    "5. El ususario tiene que introducir una direccion en formato String en otra variable llamada 'direcc'\n",
    "6. El programa debe calcular el monto total\n",
    "7. Respuesta final del chatbot: \"Le mandaremos las '(número total de pizzas)' pizzas a la dirección 'direcc'. Serán <precio total a pagar en euros>. Muchas gracias por su pedido.\"\n",
    "         \n"
   ]
  },
  {
   "cell_type": "code",
   "execution_count": 9,
   "metadata": {
    "id": "qkKibyt-NPxt"
   },
   "outputs": [
    {
     "name": "stdout",
     "output_type": "stream",
     "text": [
      "Buenas tardes, bienvenido al servicio de pedido online.\n",
      "El precio de nuestras pizzas es de 8.95€ para la familiar o de 9.90€ para la mediana.\n",
      "¿Cuántas pizzas familiares desea?\n"
     ]
    },
    {
     "name": "stdin",
     "output_type": "stream",
     "text": [
      " 8\n"
     ]
    },
    {
     "name": "stdout",
     "output_type": "stream",
     "text": [
      "Estupendo, ¿cuántas pizzas medianas desea?\n"
     ]
    },
    {
     "name": "stdin",
     "output_type": "stream",
     "text": [
      " 6\n"
     ]
    },
    {
     "name": "stdout",
     "output_type": "stream",
     "text": [
      "Estupendo, se están preparando 8 pizzas familiares y 6 pizzas medianas. \n",
      "Dígame su dirección.\n"
     ]
    },
    {
     "name": "stdin",
     "output_type": "stream",
     "text": [
      " La Torre 8\n"
     ]
    },
    {
     "name": "stdout",
     "output_type": "stream",
     "text": [
      "Le mandaremos las 14 pizzas a la dirección La Torre 8.\n",
      "El total a pagar será de 131.00€. \n",
      "Muchas gracias por su pedido.\n"
     ]
    }
   ],
   "source": [
    "# Punto 1\n",
    "print(\"Buenas tardes, bienvenido al servicio de pedido online.\\nEl precio de nuestras pizzas es de 8.95€ para la familiar o de 9.90€ para la mediana.\\n¿Cuántas pizzas familiares desea?\")\n",
    "\n",
    "# Punto 2\n",
    "pizz_familiar = int(input())\n",
    "\n",
    "# Punto 3\n",
    "print(\"Estupendo, ¿cuántas pizzas medianas desea?\")\n",
    "pizz_mediana = int(input())\n",
    "\n",
    "# Punto 4\n",
    "print(f\"Estupendo, se están preparando {pizz_familiar} pizzas familiares y {pizz_mediana} pizzas medianas. \\nDígame su dirección.\")\n",
    "\n",
    "#Punto 5\n",
    "direcc = input()\n",
    "\n",
    "#Punto 6\n",
    "precio_familiar = 8.95\n",
    "precio_mediana = 9.90\n",
    "total = (pizz_familiar * precio_familiar) + (pizz_mediana * precio_mediana)\n",
    "\n",
    "#Punto 7\n",
    "print(f\"Le mandaremos las {pizz_familiar + pizz_mediana} pizzas a la dirección {direcc}.\")\n",
    "print(f\"El total a pagar será de {total:.2f}€. \\nMuchas gracias por su pedido.\")"
   ]
  },
  {
   "cell_type": "markdown",
   "metadata": {
    "id": "f0oqoGDGNPxt"
   },
   "source": [
    "---\n",
    "## Parte II\n",
    "\n",
    "Crea un programa que realice las siguientes acciones:\n",
    "\n",
    "1. Solicite al usuario que introduzca 3 números enteros separados por comas (por ejemplo: 1,2,3).\n",
    "2. Convierta esa entrada en una lista de números enteros.\n",
    "3. Utilizando funciones built-in, determine el número máximo, el número mínimo y la suma total de los números introducidos.\n",
    "4. Determine la verdad o falsedad de la siguiente afirmación: \"El número máximo menos el número mínimo es igual a la suma total dividida por 5\".\n",
    "5. Muestre los resultados utilizando print."
   ]
  },
  {
   "cell_type": "code",
   "execution_count": 21,
   "metadata": {
    "id": "rAlpWiQ9NPxt"
   },
   "outputs": [
    {
     "name": "stdin",
     "output_type": "stream",
     "text": [
      "Introduce 3 números enteros separados por comas (ejemplo: 1,2,3):  1,2,3\n"
     ]
    },
    {
     "name": "stdout",
     "output_type": "stream",
     "text": [
      "Listado de números enteros: [1, 2, 3]\n",
      "El número máximo del listado es: 3\n",
      "El número mínimo del listado es: 1\n",
      "Y la suma total es: 6\n",
      "¿El número máximo menos el número mínimo es igual a la suma total dividida por 5? False\n",
      "Muchas gracias por participar.\n"
     ]
    }
   ],
   "source": [
    "# Punto 1\n",
    "introducir = input(\"Introduce 3 números enteros separados por comas (ejemplo: 1,2,3): \")\n",
    "\n",
    "# Punto 2\n",
    "numeros = list(map(int, introducir.split(\",\")))\n",
    "\n",
    "# Punto 3\n",
    "maximo = max(numeros)\n",
    "minimo = min(numeros)\n",
    "suma_total = sum(numeros)\n",
    "\n",
    "# Punto 4\n",
    "afirmacion = (maximo - minimo) == (suma_total / 5)\n",
    "\n",
    "# Punto 5\n",
    "print(f\"Listado de números enteros: {numeros}\")\n",
    "print(f\"El número máximo del listado es: {maximo}\")\n",
    "print(f\"El número mínimo del listado es: {minimo}\")\n",
    "print(f\"Y la suma total es: {suma_total}\")\n",
    "print(f\"¿El número máximo menos el número mínimo es igual a la suma total dividida por 5? {afirmacion}\")\n",
    "print(\"Muchas gracias por participar.\")"
   ]
  },
  {
   "cell_type": "code",
   "execution_count": null,
   "metadata": {},
   "outputs": [],
   "source": []
  }
 ],
 "metadata": {
  "colab": {
   "provenance": []
  },
  "kernelspec": {
   "display_name": "Python 3 (ipykernel)",
   "language": "python",
   "name": "python3"
  },
  "language_info": {
   "codemirror_mode": {
    "name": "ipython",
    "version": 3
   },
   "file_extension": ".py",
   "mimetype": "text/x-python",
   "name": "python",
   "nbconvert_exporter": "python",
   "pygments_lexer": "ipython3",
   "version": "3.13.1"
  }
 },
 "nbformat": 4,
 "nbformat_minor": 4
}

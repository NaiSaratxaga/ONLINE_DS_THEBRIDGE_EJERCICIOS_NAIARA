{
 "cells": [
  {
   "cell_type": "markdown",
   "metadata": {
    "id": "c33ZVsqhs0Wi"
   },
   "source": [
    "<img src=\"https://campusvirtual.thebridge.tech/pluginfile.php/1/core_admin/logocompact/300x300/1734003960/logo.png\" alt=\"Logo Thr Bridge\" width=\"300\"> "
   ]
  },
  {
   "cell_type": "markdown",
   "metadata": {
    "id": "V3E7HtGds0Wm"
   },
   "source": [
    "## EJERCICIOS PYTHON BASICO 4:\n",
    "## Funciones, métodos, listas"
   ]
  },
  {
   "cell_type": "markdown",
   "metadata": {
    "id": "9KpyXA7Ps0Wn"
   },
   "source": [
    "Completa los siguiente ejercicios, la solución completa a los mismos se publicarán en el repo del curso a lo largo del sprint. En algunos ejercicios se muestra la solución final, para que puedas comprobar que lo has hecho bien, pero lo importante es el código que generes. ¡Vaaamos, a ello...!"
   ]
  },
  {
   "cell_type": "markdown",
   "metadata": {
    "id": "fcSp8LLFs0Wn"
   },
   "source": [
    "---\n",
    "\n",
    "## Ejercicio 1\n",
    "Para este ejercicio vamos a poner en práctica [las funciones built in](https://docs.python.org/3/library/functions.html).\n",
    "\n",
    "1. Calcula el máximo de la lista: [4, 6, 8, -1]\n",
    "2. Suma todos los elementos de la lista anterior\n",
    "3. Redondea este float a 3 dígitos decimales: 63.451256965\n",
    "4. Valor absoluto de: -74"
   ]
  },
  {
   "cell_type": "code",
   "execution_count": 10,
   "metadata": {
    "id": "SIO0PiKPs0Wn"
   },
   "outputs": [
    {
     "name": "stdout",
     "output_type": "stream",
     "text": [
      "8\n",
      "17.0\n",
      "63.451\n",
      "74\n"
     ]
    }
   ],
   "source": [
    "# Ejercicio 1.1\n",
    "numeros = [4, 6, 8, -1]\n",
    "maximo = max(numeros)\n",
    "print(maximo)\n",
    "\n",
    "# Ejercicio 1.2\n",
    "import math\n",
    "numeros = [4, 6, 8, -1]\n",
    "print(math.fsum(numeros))\n",
    "\n",
    "# Ejercicio 1.3\n",
    "num = 63.451256965\n",
    "redondeo = round(num, 3)\n",
    "print(redondeo)\n",
    "\n",
    "# Ejercicio 1.4\n",
    "abs(-74)\n",
    "print(abs(-74))"
   ]
  },
  {
   "cell_type": "markdown",
   "metadata": {
    "id": "SKwBoBtts0Wo"
   },
   "source": [
    "---\n",
    "\n",
    "## Ejercicio 2\n",
    "Para el siguiente string se pide imprimir por pantalla los siguientes casos\n",
    "\n",
    "    \"En un lugar de la Mancha, de cuyo nombre no quiero acordarme.\"\n",
    "\n",
    "1. Pásalo todo a mayúsculas\n",
    "2. Pásalo todo a minúsculas\n",
    "3. Solo la primera letra de cada palabra en mayúscula, el resto en minúscula\n",
    "4. Crea una lista dividiéndolo por sus espacios\n",
    "5. Sustituye las comas `,` por puntos y comas `;`\n",
    "6. Elimina las `a` minúsculas"
   ]
  },
  {
   "cell_type": "code",
   "execution_count": 19,
   "metadata": {
    "id": "zp5WcgNjs0Wo",
    "outputId": "80e858f0-8d17-4398-c608-7df3a49d4e86"
   },
   "outputs": [
    {
     "name": "stdout",
     "output_type": "stream",
     "text": [
      "EN UN LUGAR DE LA MANCHA, DE CUYO NOMBRE NO QUIERO ACORDARME.\n",
      "en un lugar de la mancha, de cuyo nombre no quiero acordarme.\n",
      "En Un Lugar De La Mancha, De Cuyo Nombre No Quiero Acordarme.\n",
      "['En', 'un', 'lugar', 'de', 'la', 'Mancha,', 'de', 'cuyo', 'nombre', 'no', 'quiero', 'acordarme.']\n",
      "En un lugar de la Mancha; de cuyo nombre no quiero acordarme.\n",
      "En un lugr de l Mnch, de cuyo nombre no quiero cordrme.\n"
     ]
    }
   ],
   "source": [
    "# Ejercicio 2.1\n",
    "texto = \"En un lugar de la Mancha, de cuyo nombre no quiero acordarme.\"\n",
    "mayusculas = texto.upper()\n",
    "print(mayusculas)\n",
    "\n",
    "# Ejercicio 2.2\n",
    "texto = \"En un lugar de la Mancha, de cuyo nombre no quiero acordarme.\"\n",
    "minusculas = texto.lower()\n",
    "print(minusculas)\n",
    "\n",
    "# Ejercicio 2.3\n",
    "texto = \"En un lugar de la Mancha, de cuyo nombre no quiero acordarme.\"\n",
    "mayusminus = texto.title()\n",
    "print(mayusminus)\n",
    "\n",
    "# Ejercicio 2.4\n",
    "texto = \"En un lugar de la Mancha, de cuyo nombre no quiero acordarme.\"\n",
    "divespacios = texto.split()\n",
    "print(divespacios)\n",
    "\n",
    "# Ejercicio 2.5\n",
    "texto = \"En un lugar de la Mancha, de cuyo nombre no quiero acordarme.\"\n",
    "sustituir = texto.replace(\",\", \";\")\n",
    "print(sustituir)\n",
    "\n",
    "# Ejercicio 2.6\n",
    "texto = \"En un lugar de la Mancha, de cuyo nombre no quiero acordarme.\"\n",
    "eliminar = texto.replace(\"a\", \"\")\n",
    "print(eliminar)"
   ]
  },
  {
   "cell_type": "markdown",
   "metadata": {
    "id": "-cNLu5_8s0Wp"
   },
   "source": [
    "---\n",
    "\n",
    "## Ejercicio 3\n",
    "1. Crea una lista con 3 elementos numéricos\n",
    "2. Añade un cuarto elemento\n",
    "3. Calcula la suma de todos\n",
    "4. Elimina el segundo elemento de la lista\n",
    "5. Añade otro elemento en la posicion 3 de la lista\n",
    "6. Crea otra lista con 4 elementos y concaténala a la que ya tenías.\n",
    "7. Ordena la lista de menor a mayor.\n",
    "8. BONUS: Ordena la lista de mayor a menor.  \n",
    "(*PISTA: Para hacer 8, tendrás que buscar en la información del método...*)  \n",
    "  \n",
    "  \n",
    "NOTA: Pinta por pantalla el resultado de cada paso."
   ]
  },
  {
   "cell_type": "code",
   "execution_count": 36,
   "metadata": {
    "id": "B50FjmAqs0Wp",
    "outputId": "5bf532db-30c4-41f0-d402-002ddde83d36"
   },
   "outputs": [
    {
     "name": "stdout",
     "output_type": "stream",
     "text": [
      "Lista con 3 elementos: [4, 15, 22]\n",
      "Lista con un 4 elemento añadido: [4, 15, 22, 44]\n",
      "Lista con la suma de todos los elementos: 85\n",
      "Lista con el segundo elemento eliminado: [4, 22, 44]\n",
      "Lista con elemento añadido en posición 3: [4, 22, 44, 72]\n",
      "Lista nueva: [12, 9, 23, 47]\n",
      "Listas concatenadas [4, 22, 44, 72, 12, 9, 23, 47]\n",
      "Lista ordenada de menor a mayor [4, 9, 12, 22, 23, 44, 47, 72]\n",
      "Lista ordenada de mayor a menor [72, 47, 44, 23, 22, 12, 9, 4]\n"
     ]
    }
   ],
   "source": [
    "# Ejercicio 3.1\n",
    "lista = [4, 15, 22]\n",
    "print(\"Lista con 3 elementos:\", lista)\n",
    "\n",
    "# Ejercicio 3.2\n",
    "lista.append(44)\n",
    "print(\"Lista con un 4 elemento añadido:\", lista)\n",
    "\n",
    "# Ejercicio 3.3\n",
    "suma_elementos = sum(lista)\n",
    "print(\"Lista con la suma de todos los elementos:\", suma_elementos)\n",
    "\n",
    "# Ejercicio 3.4\n",
    "del lista[1]\n",
    "print(\"Lista con el segundo elemento eliminado:\", lista)\n",
    "\n",
    "# Ejercicio 3.5\n",
    "lista.insert(3, 72)\n",
    "print(\"Lista con elemento añadido en posición 3:\", lista)\n",
    "\n",
    "# Ejercicio 3.6\n",
    "nueva_lista = [12, 9, 23, 47]\n",
    "print(\"Lista nueva:\", nueva_lista)\n",
    "# concatenar las 2 listas\n",
    "lista.extend(nueva_lista)\n",
    "print(\"Listas concatenadas\", lista)\n",
    "\n",
    "# Ejercicio 3.7\n",
    "lista.sort()\n",
    "print(\"Lista ordenada de menor a mayor\", lista)\n",
    "\n",
    "# Ejercicio 3.8\n",
    "lista.sort(reverse = True)\n",
    "print(\"Lista ordenada de mayor a menor\", lista)"
   ]
  }
 ],
 "metadata": {
  "colab": {
   "provenance": []
  },
  "kernelspec": {
   "display_name": "Python 3 (ipykernel)",
   "language": "python",
   "name": "python3"
  },
  "language_info": {
   "codemirror_mode": {
    "name": "ipython",
    "version": 3
   },
   "file_extension": ".py",
   "mimetype": "text/x-python",
   "name": "python",
   "nbconvert_exporter": "python",
   "pygments_lexer": "ipython3",
   "version": "3.13.1"
  }
 },
 "nbformat": 4,
 "nbformat_minor": 4
}

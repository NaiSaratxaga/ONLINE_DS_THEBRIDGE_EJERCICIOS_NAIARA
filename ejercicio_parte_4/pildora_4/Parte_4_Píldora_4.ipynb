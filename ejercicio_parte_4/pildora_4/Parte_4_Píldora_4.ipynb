{
 "cells": [
  {
   "cell_type": "markdown",
   "metadata": {
    "id": "5t3II77aO9ea"
   },
   "source": [
    "<img src=\"https://campusvirtual.thebridge.tech/pluginfile.php/1/core_admin/logocompact/300x300/1734003960/logo.png\" alt=\"Logo Thr Bridge\" width=\"300\"> <img src=\"https://upload.wikimedia.org/wikipedia/commons/c/c3/Python-logo-notext.svg\" alt=\"Logo Python\" width=\"100\">\n"
   ]
  },
  {
   "cell_type": "markdown",
   "metadata": {
    "id": "cHAlR1OAO9ed"
   },
   "source": [
    "# Python Basics I"
   ]
  },
  {
   "cell_type": "markdown",
   "metadata": {
    "id": "1gZJ0klhO9ed"
   },
   "source": [
    "## Contenidos"
   ]
  },
  {
   "cell_type": "markdown",
   "metadata": {
    "id": "F0zEGhODO9ee"
   },
   "source": [
    "* [Listas\n",
    "](#Listas\n",
    ")\n"
   ]
  },
  {
   "cell_type": "markdown",
   "metadata": {
    "id": "PGzF0fW9O9ee"
   },
   "source": [
    "## Listas\n",
    "[al indice](#Contenidos)  \n",
    "Se trata de otro de los tipos de datos de Python más usados. Dentro de las colecciones, que veremos más adelante, la lista es la colección que normalmente se le da más uso. **Nos permiten almacenar conjuntos de variables u objetos**, y son elementos de lo más versátiles puesto que podemos almacenar objetos de distintos tipos, modificarlos, eliminarlos, meter listas dentro de listas... Sus dos caractrísticas principales son:\n",
    "* **Mutables**: una vez se ha creado la lista, se puede modificar\n",
    "* **Ordenada**: Los elementos tienen un cierto orden, lo que nos permite acceder al elemento que queramos teniendo en cuenta tal orden\n",
    "\n",
    "En cuanto a su sintaxis, cuando declaremos la lista simplemente hay que separar cada elemento con comas, y rodearlo todo con corchetes."
   ]
  },
  {
   "cell_type": "code",
   "execution_count": 2,
   "metadata": {
    "id": "o7pDPGspO9ef"
   },
   "outputs": [
    {
     "name": "stdout",
     "output_type": "stream",
     "text": [
      "[1, 3, 5, 6]\n",
      "<class 'list'>\n"
     ]
    }
   ],
   "source": [
    "# Lista de números\n",
    "numeros = [1, 3, 5, 6]\n",
    "print(numeros)\n",
    "print(type(numeros))"
   ]
  },
  {
   "cell_type": "code",
   "execution_count": 5,
   "metadata": {
    "id": "8FCoA4-4O9ef"
   },
   "outputs": [
    {
     "name": "stdout",
     "output_type": "stream",
     "text": [
      "['Esto', 'es', 'una', 'lista']\n",
      "[True, False, True, True, False]\n"
     ]
    }
   ],
   "source": [
    "# lista de strings\n",
    "strings = [\"Esto\", \"es\", \"una\", \"lista\"]\n",
    "print(strings)\n",
    "\n",
    "# Lista de booleanos\n",
    "booleanos = [True, False, not False, True or False, False and False]\n",
    "print(booleanos)"
   ]
  },
  {
   "cell_type": "code",
   "execution_count": 8,
   "metadata": {},
   "outputs": [
    {
     "name": "stdout",
     "output_type": "stream",
     "text": [
      "['Esto es', 12, -34.5, True, False, 'lista']\n",
      "<class 'list'>\n",
      "['Gola', '12', 23, [23, True, False]]\n"
     ]
    }
   ],
   "source": [
    "# Lista de  tipos mezclados\n",
    "mix = [\"Esto es\", 12, -34.5, True, False, \"lista\"]\n",
    "print(mix)\n",
    "print(type(mix))\n",
    "\n",
    "# Lista dentro de listas\n",
    "listas = [\"Gola\", \"12\", 23, [23, True, False ]]\n",
    "print(listas)"
   ]
  },
  {
   "cell_type": "code",
   "execution_count": 9,
   "metadata": {
    "scrolled": true
   },
   "outputs": [
    {
     "data": {
      "text/plain": [
       "4"
      ]
     },
     "execution_count": 9,
     "metadata": {},
     "output_type": "execute_result"
    }
   ],
   "source": [
    "len(listas)"
   ]
  },
  {
   "cell_type": "code",
   "execution_count": 10,
   "metadata": {},
   "outputs": [
    {
     "data": {
      "text/plain": [
       "6"
      ]
     },
     "execution_count": 10,
     "metadata": {},
     "output_type": "execute_result"
    }
   ],
   "source": [
    "len(mix)"
   ]
  },
  {
   "cell_type": "code",
   "execution_count": 12,
   "metadata": {},
   "outputs": [
    {
     "name": "stdout",
     "output_type": "stream",
     "text": [
      "['Esto es', 12, -34.5, True, False, 'lista', 'Gola', '12', 23, [23, True, False]]\n",
      "<class 'list'>\n"
     ]
    }
   ],
   "source": [
    "concatenacion = mix + listas\n",
    "print(concatenacion)\n",
    "print(type(concatenacion))"
   ]
  },
  {
   "cell_type": "code",
   "execution_count": 15,
   "metadata": {},
   "outputs": [
    {
     "name": "stdout",
     "output_type": "stream",
     "text": [
      "['Gola', '12', 23, [23, True, False], 'Esto es', 12, -34.5, True, False, 'lista']\n"
     ]
    }
   ],
   "source": [
    "concatenacion_2 = listas + mix\n",
    "print(concatenacion_2)"
   ]
  },
  {
   "cell_type": "markdown",
   "metadata": {
    "id": "jf89e0XWO9ef"
   },
   "source": [
    "**NOTA**: ¿Ves por qué los decimales en Python siempre van con puntos y no con comas? Con las colecciones el intérprete de Python se volvería loco.\n",
    "\n",
    "Podemos ver tambien el tipo de la lista"
   ]
  },
  {
   "cell_type": "code",
   "execution_count": 16,
   "metadata": {
    "id": "TQHmPkPiO9eg"
   },
   "outputs": [
    {
     "data": {
      "text/plain": [
       "list"
      ]
     },
     "execution_count": 16,
     "metadata": {},
     "output_type": "execute_result"
    }
   ],
   "source": [
    "type(mix)"
   ]
  },
  {
   "cell_type": "markdown",
   "metadata": {
    "id": "-bjts2T3O9eg"
   },
   "source": [
    "Calcular la longitud de la misma mediante el método *built-in* ya visto: `len()`"
   ]
  },
  {
   "cell_type": "code",
   "execution_count": 17,
   "metadata": {
    "id": "bO5386-oO9eg"
   },
   "outputs": [
    {
     "data": {
      "text/plain": [
       "6"
      ]
     },
     "execution_count": 17,
     "metadata": {},
     "output_type": "execute_result"
    }
   ],
   "source": [
    "len(mix)"
   ]
  },
  {
   "cell_type": "markdown",
   "metadata": {
    "id": "8yAX6U-DO9eh"
   },
   "source": [
    "Accedemos a los elemenos de la lista mediante corchetes `[]`\n",
    "\n",
    "**Importante**. El primer elemento es el 0"
   ]
  },
  {
   "cell_type": "code",
   "execution_count": 26,
   "metadata": {
    "id": "aKxSNyKCO9eh"
   },
   "outputs": [
    {
     "name": "stdout",
     "output_type": "stream",
     "text": [
      "Esto\n",
      "Patata\n",
      "2\n"
     ]
    },
    {
     "ename": "IndexError",
     "evalue": "list index out of range",
     "output_type": "error",
     "traceback": [
      "\u001b[0;31m---------------------------------------------------------------------------\u001b[0m",
      "\u001b[0;31mIndexError\u001b[0m                                Traceback (most recent call last)",
      "Cell \u001b[0;32mIn[26], line 5\u001b[0m\n\u001b[1;32m      3\u001b[0m \u001b[38;5;28mprint\u001b[39m(lista_ejemplo[\u001b[38;5;241m-\u001b[39m\u001b[38;5;241m1\u001b[39m])\n\u001b[1;32m      4\u001b[0m \u001b[38;5;28mprint\u001b[39m(lista_ejemplo[\u001b[38;5;241m-\u001b[39m\u001b[38;5;241m3\u001b[39m])\n\u001b[0;32m----> 5\u001b[0m \u001b[38;5;28mprint\u001b[39m(\u001b[43mlista_ejemplo\u001b[49m\u001b[43m[\u001b[49m\u001b[38;5;241;43m-\u001b[39;49m\u001b[38;5;241;43m25\u001b[39;49m\u001b[43m]\u001b[49m)\n",
      "\u001b[0;31mIndexError\u001b[0m: list index out of range"
     ]
    }
   ],
   "source": [
    "lista_ejemplo = [\"Esto\",2,3,\"Patata\"]\n",
    "print(lista_ejemplo[0])\n",
    "print(lista_ejemplo[-1])\n",
    "print(lista_ejemplo[-3])\n",
    "print(lista_ejemplo[-25])"
   ]
  },
  {
   "cell_type": "markdown",
   "metadata": {
    "id": "A12ygCyFO9eh"
   },
   "source": [
    "### Metodos en Listas\n",
    "Para el tipo de objeto lista, también hay una serie de métodos catacterísticos que nos permiten operar con ellas: añadir valores, quitarlos, indexado, filtrado, etc... En [este enlace](https://www.w3schools.com/python/python_ref_list.asp) puedes encontrar todos los métodos que podrás usar con listas."
   ]
  },
  {
   "cell_type": "code",
   "execution_count": 38,
   "metadata": {
    "id": "y2ODCLuoO9eh"
   },
   "outputs": [
    {
     "name": "stdout",
     "output_type": "stream",
     "text": [
      "['Física', 'Química', 'Matemáticas', 'Literatura', 'Filosofia']\n",
      "['Física', 'Educación Física', 'Química', 'Matemáticas', 'Literatura', 'Filosofia']\n",
      "['Física', 'Química', 'Matemáticas', 'Literatura', 'Filosofia']\n",
      "['Física', 'Química', 'Matemáticas', 'Literatura']\n",
      "['Física', 'Literatura', 'Matemáticas', 'Química']\n"
     ]
    }
   ],
   "source": [
    "asignaturas = [\"Física\", \"Química\", \"Matemáticas\", \"Literatura\"]\n",
    "\n",
    "# Añadir un elemto a una lista\n",
    "asignaturas.append(\"Filosofia\")\n",
    "print(asignaturas)\n",
    "\n",
    "# añadir elementos en una posición determinada\n",
    "asignaturas.insert(1, \"Educación Física\")\n",
    "print(asignaturas)\n",
    "\n",
    "# Quitar elementos\n",
    "#asignaturas.clear()\n",
    "#print(asignaturas)\n",
    "\n",
    "# Quitar un elemento a partir de su ìndice o posición\n",
    "asignaturas.pop(1)\n",
    "print(asignaturas)\n",
    "\n",
    "# Quitar un elemento por su valor\n",
    "asignaturas.remove(\"Filosofia\")\n",
    "print(asignaturas)\n",
    "\n",
    "#asignaturas.pop(123)\n",
    "\n",
    "# Ordenar la lista\n",
    "asignaturas.sort()\n",
    "print(asignaturas)"
   ]
  },
  {
   "cell_type": "code",
   "execution_count": null,
   "metadata": {
    "id": "5vUxj_13O9eh"
   },
   "outputs": [],
   "source": []
  },
  {
   "cell_type": "code",
   "execution_count": null,
   "metadata": {
    "id": "obFoXgq2O9eh"
   },
   "outputs": [],
   "source": []
  }
 ],
 "metadata": {
  "colab": {
   "provenance": []
  },
  "kernelspec": {
   "display_name": "Python 3 (ipykernel)",
   "language": "python",
   "name": "python3"
  },
  "language_info": {
   "codemirror_mode": {
    "name": "ipython",
    "version": 3
   },
   "file_extension": ".py",
   "mimetype": "text/x-python",
   "name": "python",
   "nbconvert_exporter": "python",
   "pygments_lexer": "ipython3",
   "version": "3.13.1"
  }
 },
 "nbformat": 4,
 "nbformat_minor": 4
}

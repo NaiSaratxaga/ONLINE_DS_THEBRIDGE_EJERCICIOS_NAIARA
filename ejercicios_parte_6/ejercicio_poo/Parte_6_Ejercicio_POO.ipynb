{
 "cells": [
  {
   "cell_type": "markdown",
   "metadata": {
    "id": "vigJnuAMSU4x"
   },
   "source": [
    "<img src=\"https://campusvirtual.thebridge.tech/pluginfile.php/1/core_admin/logocompact/300x300/1734003960/logo.png\" alt=\"Logo Thr Bridge\" width=\"300\"> <img src=\"https://upload.wikimedia.org/wikipedia/commons/c/c3/Python-logo-notext.svg\" alt=\"Logo Python\" width=\"100\">\n"
   ]
  },
  {
   "cell_type": "markdown",
   "metadata": {
    "id": "2xmnwM17SU4y"
   },
   "source": [
    "---"
   ]
  },
  {
   "cell_type": "markdown",
   "metadata": {
    "id": "liorA-1ZSU4y"
   },
   "source": [
    "# Ejercicios Clases y Objetos"
   ]
  },
  {
   "cell_type": "markdown",
   "metadata": {
    "id": "5xXUz5l9SU4z"
   },
   "source": [
    "## Ejercicio 1\n",
    "Somos una empresa que tiene varias tiendas de electrodomesticos. Necesitamos un programa para manejar las tiendas, ver las ventas que han tenido, cuántos empleados hay, etc... Para ello vamos a modelizar la tienda en una clase, que tendrá las siguientes características:\n",
    "* Nombre clase: \"Tienda\"\n",
    "* Atributos comunes:\n",
    "    * Tipo: \"Electrodomésticos\"\n",
    "    * Abierta: True\n",
    "* Atributos propios de cada tienda:\n",
    "    * Nombre - String\n",
    "    * Dirección - String\n",
    "    * Número de empleados - int\n",
    "    * Ventas ultimos 3 meses - Lista de 3 numeros\n",
    "* Método para calcular las ventas de todos los meses, que devuelva un numero con todas las ventas.\n",
    "* Método que calcula la media de ventas de los ultimos meses, por empleado\n",
    "* Método que devuelve en un string el nombre de la tienda, junto con su dirección.\n",
    "* Método que obtiene las ventas del último mes.\n",
    "* Método para dar una proyección de las ventas en caso de haber invertido X dinero en marketing en esa tienda. Siendo X el parámetro de entrada. Si X es menor de 1000, las ventas de los ultimos 3 meses hubiesen sido de (1.2 x ventas), si es mayor o igual de 1000, las ventas hubiesen sido de (1.5 x venta). El método reescribe el atributo de ventas en los últimos 3 meses, y además devuelve las ventas con el aumento.\n",
    "\n",
    "Se pide:\n",
    "1. Implementar la clase \"Tienda\"\n",
    "2. Crear tres tiendas con datos inventados\n",
    "3. Comprueba en al menos una de ellas, todo lo implementado en la clase tienda (sus atributos, media de ventas, ventas/empleado...)\n",
    "3. Calcular las ventas del último mes de todas las tiendas. Para ello usa el bucle `for`\n",
    "4. Imprime por pantalla los nombres de las tiendas cuya dirección lleve el string \"Avenida\"\n",
    "5. Seguro que ya has hecho este apartado... Documenta la clase :)"
   ]
  },
  {
   "cell_type": "code",
   "execution_count": 1,
   "metadata": {
    "id": "5cLQcLxfSU4z"
   },
   "outputs": [
    {
     "name": "stdout",
     "output_type": "stream",
     "text": [
      "ElectroCenter, ubicada en Avenida Principal 123\n",
      "Ventas totales: 18500\n",
      "Media de ventas por empleado: 1850.0\n",
      "Ventas último mes: 6500\n",
      "Proyección de ventas con inversión de 1200 en marketing: [7500.0, 10500.0, 9750.0]\n",
      "Ventas del último mes de todas las tiendas: [9750.0, 5500, 9500]\n",
      "Tiendas ubicadas en una Avenida: ['ElectroCenter', 'TecnoHouse']\n"
     ]
    }
   ],
   "source": [
    "class Tienda:\n",
    "    # Atributos comunes\n",
    "    tipo = \"Electrodomésticos\"\n",
    "    abierta = True\n",
    "\n",
    "    def __init__(self, nombre, direccion, num_empleados, ventas_ultimos_3_meses):\n",
    "        self.nombre = nombre\n",
    "        self.direccion = direccion\n",
    "        self.num_empleados = num_empleados\n",
    "        self.ventas_ultimos_3_meses = ventas_ultimos_3_meses\n",
    "\n",
    "    def calcular_ventas_totales(self):\n",
    "        return sum(self.ventas_ultimos_3_meses)\n",
    "\n",
    "    def calcular_media_ventas_por_empleado(self):\n",
    "        \n",
    "        if self.num_empleados > 0:\n",
    "            return self.calcular_ventas_totales() / self.num_empleados\n",
    "        return 0  \n",
    "\n",
    "    def obtener_nombre_direccion(self):\n",
    "        return f\"{self.nombre}, ubicada en {self.direccion}\"\n",
    "\n",
    "    def obtener_ventas_ultimo_mes(self):\n",
    "        return self.ventas_ultimos_3_meses[-1]\n",
    "\n",
    "    def proyectar_ventas_con_marketing(self, inversion):\n",
    "        factor = 1.2 if inversion < 1000 else 1.5\n",
    "        self.ventas_ultimos_3_meses = [venta * factor for venta in self.ventas_ultimos_3_meses]\n",
    "        return self.ventas_ultimos_3_meses\n",
    "\n",
    "\n",
    "# Creación de tres tiendas con datos ficticios\n",
    "tienda1 = Tienda(\"ElectroCenter\", \"Avenida Principal 123\", 10, [5000, 7000, 6500])\n",
    "tienda2 = Tienda(\"Hogar Electro\", \"Calle Secundaria 45\", 8, [4000, 6000, 5500])\n",
    "tienda3 = Tienda(\"TecnoHouse\", \"Avenida Industrial 78\", 12, [8000, 9000, 9500])\n",
    "\n",
    "# Prueba de los métodos en una tienda\n",
    "print(tienda1.obtener_nombre_direccion())  # Nombre y dirección\n",
    "print(\"Ventas totales:\", tienda1.calcular_ventas_totales())  # Ventas totales\n",
    "print(\"Media de ventas por empleado:\", tienda1.calcular_media_ventas_por_empleado())  # Media de ventas por empleado\n",
    "print(\"Ventas último mes:\", tienda1.obtener_ventas_ultimo_mes())  # Ventas del último mes\n",
    "\n",
    "# Aplicar proyección de ventas con inversión en marketing\n",
    "print(\"Proyección de ventas con inversión de 1200 en marketing:\", tienda1.proyectar_ventas_con_marketing(1200))\n",
    "\n",
    "# Obtener ventas del último mes de todas las tiendas\n",
    "ventas_ultimo_mes_todas = [tienda.obtener_ventas_ultimo_mes() for tienda in [tienda1, tienda2, tienda3]]\n",
    "print(\"Ventas del último mes de todas las tiendas:\", ventas_ultimo_mes_todas)\n",
    "\n",
    "# Imprimir los nombres de las tiendas cuya dirección contiene \"Avenida\"\n",
    "tiendas_con_avenida = [tienda.nombre for tienda in [tienda1, tienda2, tienda3] if \"Avenida\" in tienda.direccion]\n",
    "print(\"Tiendas ubicadas en una Avenida:\", tiendas_con_avenida)\n"
   ]
  },
  {
   "cell_type": "markdown",
   "metadata": {
    "id": "WEBq7EpsSU40"
   },
   "source": [
    "## Ejercicio 2\n",
    "En este ejercicio vamos a implementar una clase *Perro* en Python. La clase tiene las siguientes características:\n",
    "* Cosas que sabemos seguro que tiene un perro\n",
    "    * Tiene 4 patas\n",
    "    * 2 orejas\n",
    "    * 2 ojos\n",
    "    * Una velocidad de 0. Por defecto, el perro está parado\n",
    "* Cuando se inicialice:\n",
    "    * El perro será de una determinada raza\n",
    "    * Por defecto tendrá pelo \"Marrón\", a no ser que se diga lo contrario.\n",
    "    * Por defecto no tendrá dueño, a no ser que se diga lo contrario.\n",
    "    \n",
    "* Dispondrá también de un método llamado andar, que tiene un argumento de entrada (aumento_velocidad). Este valor se le sumará a la velocidad que ya llevaba el perro.\n",
    "* Necesita otro método (parar), donde pondremos la velocidad a 0.\n",
    "* Otro método llamado \"ladrar\", que tendrá un argumento de entrada, y la salida será el siguiente string: \"GUAU!\" + el argumento de entrada.\n",
    "\n",
    "\n",
    "Se pide:\n",
    "* Implementa la clase *Perro*\n",
    "* Crea un objeto de tipo *Perro*, sin dueño\n",
    "* Comprueba que están bien todos sus atributos\n",
    "* Prueba que ande, y comprueba su velocidad\n",
    "* Páralo\n",
    "* Documenta la clase *Perro*"
   ]
  },
  {
   "cell_type": "code",
   "execution_count": 3,
   "metadata": {
    "id": "DpEWvbwGSU40"
   },
   "outputs": [
    {
     "name": "stdout",
     "output_type": "stream",
     "text": [
      "Raza: Labrador\n",
      "Pelo: Marrón\n",
      "Dueño: None\n",
      "Velocidad inicial: 0\n",
      "Patas: 4\n",
      "Orejas: 2\n",
      "Ojos: 2\n",
      "Velocidad después de andar: 5\n",
      "Velocidad después de parar: 0\n",
      "GUAU! ¡Alerta!\n"
     ]
    }
   ],
   "source": [
    "class Perro:\n",
    "\n",
    "    patas = 4\n",
    "    orejas = 2\n",
    "    ojos = 2\n",
    "\n",
    "    def __init__(self, raza, pelo=\"Marrón\", dueño=None):\n",
    "        self.raza = raza\n",
    "        self.pelo = pelo\n",
    "        self.dueño = dueño\n",
    "        self.velocidad = 0  # Inicialmente el perro está parado\n",
    "\n",
    "    def andar(self, aumento_velocidad):\n",
    "        self.velocidad += aumento_velocidad\n",
    "\n",
    "    def parar(self):\n",
    "        self.velocidad = 0\n",
    "\n",
    "    def ladrar(self, mensaje):\n",
    "        return f\"GUAU! {mensaje}\"\n",
    "\n",
    "\n",
    "# Creación de un objeto Perro sin dueño\n",
    "mi_perro = Perro(raza=\"Labrador\")\n",
    "\n",
    "# Comprobación de atributos\n",
    "print(\"Raza:\", mi_perro.raza)  # Labrador\n",
    "print(\"Pelo:\", mi_perro.pelo)  # Marrón\n",
    "print(\"Dueño:\", mi_perro.dueño)  # None\n",
    "print(\"Velocidad inicial:\", mi_perro.velocidad)  # 0\n",
    "print(\"Patas:\", mi_perro.patas)  # 4\n",
    "print(\"Orejas:\", mi_perro.orejas)  # 2\n",
    "print(\"Ojos:\", mi_perro.ojos)  # 2\n",
    "\n",
    "# Hacer que el perro ande y comprobar su velocidad\n",
    "mi_perro.andar(5)\n",
    "print(\"Velocidad después de andar:\", mi_perro.velocidad)  # 5\n",
    "\n",
    "# Parar al perro\n",
    "mi_perro.parar()\n",
    "print(\"Velocidad después de parar:\", mi_perro.velocidad)  # 0\n",
    "\n",
    "# Hacer que el perro ladre\n",
    "print(mi_perro.ladrar(\"¡Alerta!\"))  # \"GUAU! ¡Alerta!\"\n"
   ]
  },
  {
   "cell_type": "code",
   "execution_count": null,
   "metadata": {},
   "outputs": [],
   "source": []
  }
 ],
 "metadata": {
  "colab": {
   "provenance": []
  },
  "kernelspec": {
   "display_name": "Python 3 (ipykernel)",
   "language": "python",
   "name": "python3"
  },
  "language_info": {
   "codemirror_mode": {
    "name": "ipython",
    "version": 3
   },
   "file_extension": ".py",
   "mimetype": "text/x-python",
   "name": "python",
   "nbconvert_exporter": "python",
   "pygments_lexer": "ipython3",
   "version": "3.13.1"
  }
 },
 "nbformat": 4,
 "nbformat_minor": 4
}

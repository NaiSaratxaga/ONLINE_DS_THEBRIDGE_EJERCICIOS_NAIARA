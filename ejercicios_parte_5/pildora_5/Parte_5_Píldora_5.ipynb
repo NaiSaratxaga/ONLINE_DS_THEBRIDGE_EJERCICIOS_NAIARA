{
 "cells": [
  {
   "cell_type": "markdown",
   "metadata": {
    "id": "pgvgnTWG_nV3"
   },
   "source": [
    "<img src=\"https://campusvirtual.thebridge.tech/pluginfile.php/1/core_admin/logocompact/300x300/1734003960/logo.png\" alt=\"Logo Thr Bridge\" width=\"300\"> <img src=\"https://upload.wikimedia.org/wikipedia/commons/c/c3/Python-logo-notext.svg\" alt=\"Logo Python\" width=\"100\">\n"
   ]
  },
  {
   "cell_type": "markdown",
   "metadata": {
    "id": "3lAENVLa_nV7"
   },
   "source": [
    "## Colecciones Python: Sets\n"
   ]
  },
  {
   "cell_type": "markdown",
   "metadata": {
    "id": "vJfXOuYF_nV7"
   },
   "source": [
    "### Contenidos\n"
   ]
  },
  {
   "cell_type": "markdown",
   "metadata": {
    "id": "5S2-XMnm_nV8"
   },
   "source": [
    "* [Introducción](#Introducción)\n",
    "\n"
   ]
  },
  {
   "cell_type": "markdown",
   "metadata": {
    "id": "C2Rj206a_nV8"
   },
   "source": [
    "### Introducción\n",
    "[al indice](#Contenidos)  \n",
    "\n",
    "Otra colección *bulit-in* de Python, compuesta por un conjunto de *valores*. Muy parecidos a las listas. Tienen las siguientes características:\n",
    "* **Mutables**: podemos modificarlos una vez se hayan creado\n",
    "* **No ordenado**\n",
    "* **Elementos unicos**: se compone de un conjunto de valores únicas\n",
    "\n",
    "**¿Cuándo usar sets?** Cuando estemos buscando unicidad en nuestros datos y no nos importe el orden.\n",
    "\n",
    "Te dejo por aquí [la documentación](https://docs.python.org/2/library/sets.html) para realizar consultas sobre los sets\n",
    "\n",
    "Si sintaxis es:\n",
    ">```Python\n",
    "> mi_set = {elemento1, elemento2, elemento3}\n",
    ">```\n",
    "\n",
    "Tiene una sintaxis muy parecida a la de las listas, pero en este caso no se utilizan los `{}`."
   ]
  },
  {
   "cell_type": "code",
   "execution_count": 4,
   "metadata": {
    "id": "2TK3poaa_nV9"
   },
   "outputs": [
    {
     "name": "stdout",
     "output_type": "stream",
     "text": [
      "4\n",
      "{'azul', 'naranja', 'verde', 'rojo'}\n",
      "<class 'set'>\n"
     ]
    }
   ],
   "source": [
    "colores = {\"azul\", \"rojo\", \"verde\", \"naranja\", \"azul\"}\n",
    "print(len(colores))\n",
    "print(colores)\n",
    "print(type(colores))"
   ]
  },
  {
   "cell_type": "markdown",
   "metadata": {
    "id": "kiRRZKEH_nV9"
   },
   "source": [
    "Los elementos del set son unicos, por lo que si en la declaración, o posteriormente añadiendo elementos hubiese algún duplicado, el set lo ignoraría. Es más, cuando aplicas el `len`, muestra la cantidad de valores únicos que tiene."
   ]
  },
  {
   "cell_type": "code",
   "execution_count": 12,
   "metadata": {
    "id": "4ztN66e1_nV9"
   },
   "outputs": [
    {
     "name": "stdout",
     "output_type": "stream",
     "text": [
      "{'azul', 'celeste', 'burdeos', 'verde', 'magenta', 'rojo'}\n",
      "{'azul', 'celeste', 'burdeos', 'naranja', 'verde', 'magenta', 'rojo'}\n",
      "{'azul', 'celeste', 'burdeos', 'verde', 'magenta', 'rojo'}\n",
      "azul\n",
      "celeste\n",
      "burdeos\n",
      "verde\n",
      "magenta\n",
      "rojo\n"
     ]
    }
   ],
   "source": [
    "# Añadir valores\n",
    "colores.add(\"magenta\")\n",
    "print(colores)\n",
    "\n",
    "colores.update([\"celeste\", \"burdeos\", \"naranja\"])\n",
    "print(colores)\n",
    "\n",
    "colores.remove(\"naranja\")\n",
    "print(colores)\n",
    "\n",
    "for color in colores:\n",
    "    print(color)\n"
   ]
  },
  {
   "cell_type": "markdown",
   "metadata": {
    "id": "-TPPKSUD_nV-"
   },
   "source": [
    "Para comprobar si dos sets tienen los mismos elementos"
   ]
  },
  {
   "cell_type": "code",
   "execution_count": 15,
   "metadata": {
    "id": "5ayHWvcf_nV-"
   },
   "outputs": [
    {
     "data": {
      "text/plain": [
       "True"
      ]
     },
     "execution_count": 15,
     "metadata": {},
     "output_type": "execute_result"
    }
   ],
   "source": [
    "set1 = {1,2,4,4,1,2}\n",
    "set2 = {2,1,4}\n",
    "\n",
    "set1 == set2"
   ]
  },
  {
   "cell_type": "code",
   "execution_count": 21,
   "metadata": {},
   "outputs": [
    {
     "name": "stdout",
     "output_type": "stream",
     "text": [
      "[100, 10, 20, 30, 15, 100, 10, 23, 55, 15, 8]\n",
      "[100, 8, 10, 15, 20, 55, 23, 30]\n"
     ]
    }
   ],
   "source": [
    "lista_con = [100,10,20,30,15,100,10,23,55,15,8]\n",
    "print(lista_con)\n",
    "#print(set(lista_con))\n",
    "#print(list(set(lista_con)))\n",
    "lista_con = list(set(lista_con))\n",
    "print(lista_con)"
   ]
  },
  {
   "cell_type": "code",
   "execution_count": null,
   "metadata": {},
   "outputs": [],
   "source": []
  }
 ],
 "metadata": {
  "colab": {
   "provenance": []
  },
  "kernelspec": {
   "display_name": "Python 3 (ipykernel)",
   "language": "python",
   "name": "python3"
  },
  "language_info": {
   "codemirror_mode": {
    "name": "ipython",
    "version": 3
   },
   "file_extension": ".py",
   "mimetype": "text/x-python",
   "name": "python",
   "nbconvert_exporter": "python",
   "pygments_lexer": "ipython3",
   "version": "3.13.1"
  }
 },
 "nbformat": 4,
 "nbformat_minor": 4
}

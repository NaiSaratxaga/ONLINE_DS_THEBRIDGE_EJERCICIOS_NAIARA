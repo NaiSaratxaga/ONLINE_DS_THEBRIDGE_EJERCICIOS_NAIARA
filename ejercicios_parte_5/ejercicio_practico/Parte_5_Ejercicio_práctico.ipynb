{
 "cells": [
  {
   "cell_type": "markdown",
   "metadata": {
    "id": "9l3HMgm6RWxF"
   },
   "source": [
    "<img src=\"https://campusvirtual.thebridge.tech/pluginfile.php/1/core_admin/logocompact/300x300/1734003960/logo.png\" alt=\"Logo Thr Bridge\" width=\"300\"> \n"
   ]
  },
  {
   "cell_type": "markdown",
   "metadata": {
    "id": "RGg9iWpoRWxG"
   },
   "source": [
    "---"
   ]
  },
  {
   "cell_type": "markdown",
   "metadata": {
    "id": "AyOlWS2nRWxH"
   },
   "source": [
    "## PRACTICA OBLIGATORIA: COLECCIONES Y FUNCIONES"
   ]
  },
  {
   "cell_type": "markdown",
   "metadata": {
    "id": "6UOgb0KVRWxH"
   },
   "source": [
    "* La práctica obligatoria de esta unidad consiste varios ejercicios de programación libre a completar sobre Colecciones y Funciones. Descarga este notebook en tu ordenador y trabaja en local.  \n",
    "* Recuerda que debes subirla a tu repositorio personal antes de la sesión en vivo para que puntúe adecuadamente y puedas participar en dicha sesión.  \n",
    "* Recuerda también que no es necesario que esté perfecta, sólo es necesario que se vea el esfuerzo.\n",
    "* Esta práctica se resolverá en la sesión en vivo correspondiente y la solución se publicará en el repo del curso."
   ]
  },
  {
   "cell_type": "markdown",
   "metadata": {
    "id": "j3yu-tEjRWxH"
   },
   "source": [
    "### Contenidos"
   ]
  },
  {
   "cell_type": "markdown",
   "metadata": {
    "id": "kO-fLH39RWxH"
   },
   "source": [
    "## Ejercicio 1\n",
    "Eleva todos los elementos de la lista al cuadrado\n",
    "> ```ejer_2 = [1,2,3,4,5]```"
   ]
  },
  {
   "cell_type": "code",
   "execution_count": 5,
   "metadata": {
    "id": "ks5l3yi7RWxH"
   },
   "outputs": [
    {
     "name": "stdout",
     "output_type": "stream",
     "text": [
      "[1, 4, 9, 16, 25]\n"
     ]
    }
   ],
   "source": [
    "ejer_2 = [1, 2, 3, 4, 5]\n",
    "resultado = [x ** 2 for x in ejer_2]\n",
    "print(resultado)"
   ]
  },
  {
   "cell_type": "markdown",
   "metadata": {
    "id": "kI_Xr5oFRWxI"
   },
   "source": [
    "## Ejercicio 2\n",
    "Haz un programa que detecte todos los duplicados de un elemento en una lista:\n",
    "* Utiliza una variable duplicado para asignarle el valor del elemento del que queremos encontrar todos sus duplicados.\n",
    "* El programa debe devolver todos los índices de los elementos duplicados.\n",
    "* Aplícalo para encontrar los duplicados de \"un\", \"es\" y \"binario\" de:  \n",
    "\n",
    ">```ejer_3 = [\"Un\", \"árbol\", \"binario\", \"es\", \"una\", \"estructura\", \"de\", \"un\", \"tipo\", \"particular\", \"a\", \"veces\", \"no\", \"es\", \"ni\", \"binario\"]```\n"
   ]
  },
  {
   "cell_type": "code",
   "execution_count": 59,
   "metadata": {},
   "outputs": [
    {
     "name": "stdout",
     "output_type": "stream",
     "text": [
      "Los índices de 'un' son: [0, 7]\n",
      "Los índices de 'binario' son: [2, 15]\n",
      "Los índices de 'es' son: [3, 13]\n"
     ]
    }
   ],
   "source": [
    "ejer_3 = [\"Un\", \"árbol\", \"binario\", \"es\", \"una\", \"estructura\", \"de\", \"un\", \"tipo\", \n",
    "          \"particular\", \"a\", \"veces\", \"no\", \"es\", \"ni\", \"binario\"]\n",
    "\n",
    "# Convertir todo a minúsculas\n",
    "ejer_3 = [item.lower() for item in ejer_3]\n",
    "\n",
    "vistos = set()\n",
    "duplicados = {}\n",
    "\n",
    "# Recorer la lista para encontrar los duplicados y sus índices\n",
    "for i, palabra in enumerate(ejer_3):\n",
    "    if palabra in vistos:\n",
    "        # Si la palabra ya fue vista, agregamos el índice al diccionario de duplicados\n",
    "        duplicados[palabra].append(i)\n",
    "    else:\n",
    "        # Si es la primera vez que vemos la palabra, la agregamos a \"vistos\"\n",
    "        vistos.add(palabra)\n",
    "        duplicados[palabra] = [i]  # Guardamos el primer índice\n",
    "\n",
    "# Imprimir los índices de los duplicados\n",
    "for palabra, indices in duplicados.items():\n",
    "    if len(indices) > 1:  # Solo mostramos las palabras que tienen duplicados\n",
    "        print(f\"Los índices de '{palabra}' son: {indices}\")\n"
   ]
  },
  {
   "cell_type": "markdown",
   "metadata": {
    "id": "3WrBd5QaRWxI"
   },
   "source": [
    "## Ejercicio 3\n",
    "1. ¿Cuántas veces se repite el 3 en la siguiente tupla?\n",
    "2. Crea una tupla nueva con los elementos desde la posicion 5 a la 10.\n",
    "3. ¿Cuántos elementos tiene la tupla `ejer_3`?\n",
    "> ```ejer_9 = (3, 20, 3, 47, 19, 3, 29, 45, 67, 78, 90, 3, 3, 5, 2, 4, 7, 9, 4, 2, 4, 3, 3, 4, 6, 7)```"
   ]
  },
  {
   "cell_type": "code",
   "execution_count": 11,
   "metadata": {
    "id": "bkv_R5LYRWxI"
   },
   "outputs": [
    {
     "name": "stdout",
     "output_type": "stream",
     "text": [
      "El número 3 se repite 7 veces.\n",
      "Tupla con elementos de la posición 5 a la 10: (3, 29, 45, 67, 78, 90)\n",
      "La tupla ejer_3 tiene 16 elementos.\n"
     ]
    }
   ],
   "source": [
    "ejer_9 = (3, 20, 3, 47, 19, 3, 29, 45, 67, 78, 90, 3, 3, 5, 2, 4, 7, 9, 4, 2, 4, 3, 3, 4, 6, 7)\n",
    "\n",
    "# 1\n",
    "cantidad_3 = ejer_9.count(3)\n",
    "print(f\"El número 3 se repite {cantidad_3} veces.\")\n",
    "\n",
    "# 2\n",
    "nueva_tupla = ejer_9[5:11]\n",
    "print(f\"Tupla con elementos de la posición 5 a la 10: {nueva_tupla}\")\n",
    "\n",
    "# 3\n",
    "ejer_3 = [\"Un\", \"árbol\", \"binario\", \"es\", \"una\", \"estructura\", \"de\", \"un\", \"tipo\", \"particular\", \"a\", \"veces\", \"no\", \"es\", \"ni\", \"binario\"]\n",
    "cantidad_elementos = len(ejer_3)\n",
    "print(f\"La tupla ejer_3 tiene {cantidad_elementos} elementos.\")"
   ]
  },
  {
   "cell_type": "markdown",
   "metadata": {
    "id": "6g8Y54AeRWxI"
   },
   "source": [
    "## Ejercicio 4\n",
    "Comprueba si el numero 60 esta en la tupla del ejercicio 3"
   ]
  },
  {
   "cell_type": "code",
   "execution_count": 16,
   "metadata": {
    "id": "F8VTEZonRWxI"
   },
   "outputs": [
    {
     "name": "stdout",
     "output_type": "stream",
     "text": [
      "El número no está en la tupla.\n"
     ]
    }
   ],
   "source": [
    "ejer_9 = (3, 20, 3, 47, 19, 3, 29, 45, 67, 78, 90, 3, 3, 5, 2, 4, 7, 9, 4, 2, 4, 3, 3, 4, 6, 7)\n",
    "\n",
    "# Comprobar si 60 está en la tupla\n",
    "if 60 in ejer_9:\n",
    "    print(\"El número está en la tupla.\")\n",
    "else:\n",
    "    print(\"El número no está en la tupla.\")"
   ]
  },
  {
   "cell_type": "markdown",
   "metadata": {
    "id": "y0fg-ZA6RWxI"
   },
   "source": [
    "## Ejercicio 5\n",
    "1. Convierte la tupla del ejercicio 3 en una lista\n",
    "2. Convierte la tupla del ejercicio 3 en un set\n",
    "3. Convierte la tupla del ejercicio 3 en un diccionario. Usa también los indices"
   ]
  },
  {
   "cell_type": "code",
   "execution_count": 23,
   "metadata": {
    "id": "_O5hXr01RWxI"
   },
   "outputs": [
    {
     "name": "stdout",
     "output_type": "stream",
     "text": [
      "Lista: [3, 20, 3, 47, 19, 3, 29, 45, 67, 78, 90, 3, 3, 5, 2, 4, 7, 9, 4, 2, 4, 3, 3, 4, 6, 7]\n",
      "Set: {2, 3, 67, 5, 4, 7, 6, 9, 45, 78, 47, 19, 20, 90, 29}\n",
      "Diccionario: {0: 3, 1: 20, 2: 3, 3: 47, 4: 19, 5: 3, 6: 29, 7: 45, 8: 67, 9: 78, 10: 90, 11: 3, 12: 3, 13: 5, 14: 2, 15: 4, 16: 7, 17: 9, 18: 4, 19: 2, 20: 4, 21: 3, 22: 3, 23: 4, 24: 6, 25: 7}\n"
     ]
    }
   ],
   "source": [
    "# Tupla a lista\n",
    "ejer_9 = (3, 20, 3, 47, 19, 3, 29, 45, 67, 78, 90, 3, 3, 5, 2, 4, 7, 9, 4, 2, 4, 3, 3, 4, 6, 7)\n",
    "\n",
    "# 1. Tupla en lista\n",
    "lista_ejer_9 = list(ejer_9)\n",
    "print(\"Lista:\", lista_ejer_9)\n",
    "\n",
    "# 2. Tupla en set \n",
    "set_ejer_9 = set(ejer_9)\n",
    "print(\"Set:\", set_ejer_9)\n",
    "\n",
    "# 3. Tupla en diccionario\n",
    "dict_ejer_9 = {i: valor for i, valor in enumerate(ejer_9)}\n",
    "print(\"Diccionario:\", dict_ejer_9)\n"
   ]
  },
  {
   "cell_type": "markdown",
   "metadata": {
    "id": "eOdWWbxvRWxJ"
   },
   "source": [
    "## Ejercicio 6\n",
    "Multiplica todos los valores del diccionario\n",
    "> ```ejer_6 = {1: 11, 2: 22, 3: 33, 4: 44, 5: 55}```"
   ]
  },
  {
   "cell_type": "code",
   "execution_count": 24,
   "metadata": {
    "id": "KcuByovKRWxJ"
   },
   "outputs": [
    {
     "name": "stdout",
     "output_type": "stream",
     "text": [
      "Producto de todos los valores: 19326120\n"
     ]
    }
   ],
   "source": [
    "import math\n",
    "\n",
    "ejer_6 = {1: 11, 2: 22, 3: 33, 4: 44, 5: 55}\n",
    "\n",
    "# Multiplicar todos los valores\n",
    "resultado = math.prod(ejer_6.values())\n",
    "\n",
    "print(\"Producto de todos los valores:\", resultado)"
   ]
  },
  {
   "cell_type": "markdown",
   "metadata": {
    "id": "W7TUSaKRRWxJ"
   },
   "source": [
    "## Ejercicio 7\n",
    "\n",
    "1. Crea un diccionario que describa un libro, con los siguientes campos o claves: \"titulo\",\"autor\",\"idioma original\",\"año de publicación\".\n",
    "2. Crea un a lista, llamada librería.\n",
    "3. Añade cuatro libros a tu elección a la librería."
   ]
  },
  {
   "cell_type": "code",
   "execution_count": 27,
   "metadata": {
    "id": "d-IMRvxRRWxJ",
    "vscode": {
     "languageId": "plaintext"
    }
   },
   "outputs": [
    {
     "name": "stdout",
     "output_type": "stream",
     "text": [
      "Libro 1: {'titulo': 'Cien años de soledad', 'autor': 'Gabriel García Márquez', 'idioma original': 'Español', 'año de publicación': 1967}\n",
      "Libro 2: {'titulo': 'El señor de los anillos', 'autor': 'J.R.R. Tolkien', 'idioma original': 'Inglés', 'año de publicación': 1954}\n",
      "Libro 3: {'titulo': 'El principito', 'autor': 'Antoine de Saint-Exupéry', 'idioma original': 'Francés', 'año de publicación': 1943}\n",
      "Libro 4: {'titulo': 'Harry Potter y la piedra filosofal', 'autor': 'J.K. Rowling', 'idioma original': 'Inglés', 'año de publicación': 1997}\n"
     ]
    }
   ],
   "source": [
    "# Crear diccionarios para cada libro\n",
    "libro1 = {\n",
    "    \"titulo\": \"Cien años de soledad\",\n",
    "    \"autor\": \"Gabriel García Márquez\",\n",
    "    \"idioma original\": \"Español\",\n",
    "    \"año de publicación\": 1967\n",
    "}\n",
    "\n",
    "libro2 = {\n",
    "    \"titulo\": \"El señor de los anillos\",\n",
    "    \"autor\": \"J.R.R. Tolkien\",\n",
    "    \"idioma original\": \"Inglés\",\n",
    "    \"año de publicación\": 1954\n",
    "}\n",
    "\n",
    "\n",
    "libro3 = {\n",
    "    \"titulo\": \"El principito\",\n",
    "    \"autor\": \"Antoine de Saint-Exupéry\",\n",
    "    \"idioma original\": \"Francés\",\n",
    "    \"año de publicación\": 1943\n",
    "}\n",
    "\n",
    "libro4 = {\n",
    "    \"titulo\": \"Harry Potter y la piedra filosofal\",\n",
    "    \"autor\": \"J.K. Rowling\",\n",
    "    \"idioma original\": \"Inglés\",\n",
    "    \"año de publicación\": 1997\n",
    "}\n",
    "\n",
    "# Crear la lista librería y añadir los libros\n",
    "libreria = [libro1, libro2, libro3, libro4]\n",
    "\n",
    "# Mostrar la librería\n",
    "for i, libro in enumerate(libreria, 1):\n",
    "    print(f\"Libro {i}: {libro}\")\n"
   ]
  },
  {
   "cell_type": "markdown",
   "metadata": {
    "id": "glMoedjYRWxJ"
   },
   "source": [
    "## Ejercicio 8\n",
    "Modifica los valores del idioma de todos los libros del ejercicio anterior para que sea \"esperanto\"\n"
   ]
  },
  {
   "cell_type": "code",
   "execution_count": 28,
   "metadata": {
    "id": "veNdC-uwRWxJ"
   },
   "outputs": [
    {
     "name": "stdout",
     "output_type": "stream",
     "text": [
      "Libro 1: {'titulo': 'Cien años de soledad', 'autor': 'Gabriel García Márquez', 'idioma original': 'Esperanto', 'año de publicación': 1967}\n",
      "Libro 2: {'titulo': 'El señor de los anillos', 'autor': 'J.R.R. Tolkien', 'idioma original': 'Esperanto', 'año de publicación': 1954}\n",
      "Libro 3: {'titulo': 'El principito', 'autor': 'Antoine de Saint-Exupéry', 'idioma original': 'Esperanto', 'año de publicación': 1943}\n",
      "Libro 4: {'titulo': 'Harry Potter y la piedra filosofal', 'autor': 'J.K. Rowling', 'idioma original': 'Esperanto', 'año de publicación': 1997}\n"
     ]
    }
   ],
   "source": [
    "# Función para cambiar el idioma a \"Esperanto\"\n",
    "def cambiar_idioma(libreria, nuevo_idioma):\n",
    "    for libro in libreria:\n",
    "        libro[\"idioma original\"] = nuevo_idioma\n",
    "\n",
    "# Llamar a la función para cambiar el idioma\n",
    "cambiar_idioma(libreria, \"Esperanto\")\n",
    "\n",
    "# Mostrar la librería con el idioma modificado\n",
    "for i, libro in enumerate(libreria, 1):\n",
    "    print(f\"Libro {i}: {libro}\")"
   ]
  },
  {
   "cell_type": "markdown",
   "metadata": {
    "id": "DRCJG04KRWxJ"
   },
   "source": [
    "## Ejercicio 9\n",
    "1. Escribe un programa que dada una variable titulo busque los libros que hay en la librería con ese título. Si no se encuentra debe devolver el mensaje `Ese no lo tengo, ¿mola?`\n",
    "2. Pruena que el programa con uno de tus libros y con otro que no contenga tu librería."
   ]
  },
  {
   "cell_type": "code",
   "execution_count": 32,
   "metadata": {
    "id": "eWHdJi9BRWxJ"
   },
   "outputs": [
    {
     "name": "stdout",
     "output_type": "stream",
     "text": [
      "Búsqueda de 'El principito':\n",
      "Libro encontrado: {'titulo': 'El principito', 'autor': 'Antoine de Saint-Exupéry', 'idioma original': 'Esperanto', 'año de publicación': 1943}\n",
      "Búsqueda de 'El gran Gatsby':\n",
      "Ese no lo tengo, ¿mola?\n"
     ]
    }
   ],
   "source": [
    "def buscar_titulo(titulo):\n",
    "    libros_encontrados = [libro for libro in libreria if libro['titulo'].lower() == titulo.lower()]\n",
    "    \n",
    "    # Si no se encuentra ningún libro, devolver mensaje\n",
    "    if libros_encontrados:\n",
    "        for libro in libros_encontrados:\n",
    "            print(f\"Libro encontrado: {libro}\")\n",
    "    else:\n",
    "        print(\"Ese no lo tengo, ¿mola?\")\n",
    "\n",
    "# Probar con un libro que está en la librería\n",
    "print(\"Búsqueda de 'El principito':\")\n",
    "buscar_titulo(\"El principito\")\n",
    "\n",
    "# Probar con un libro que no está en la librería\n",
    "print(\"Búsqueda de 'El gran Gatsby':\")\n",
    "buscar_titulo(\"El gran Gatsby\")"
   ]
  },
  {
   "cell_type": "markdown",
   "metadata": {
    "id": "17YOpYuFRWxJ"
   },
   "source": [
    "## Ejercicio 10\n",
    "Convierte el programa del ejercicio 2 en una función al que se le pase el valor a buscar como un argumento posicional"
   ]
  },
  {
   "cell_type": "code",
   "execution_count": null,
   "metadata": {},
   "outputs": [],
   "source": []
  },
  {
   "cell_type": "markdown",
   "metadata": {
    "id": "xZ-sWJxPRWxJ"
   },
   "source": [
    "## Ejercicio 11\n",
    "Convierte el programa del ejercicio 9 en una función al que se le pasen como argumentos la librería, posicional, y el título, argumento keyword con valor \"ninguno\", por defecto."
   ]
  },
  {
   "cell_type": "code",
   "execution_count": 35,
   "metadata": {
    "id": "4-JrsMdNRWxK"
   },
   "outputs": [
    {
     "name": "stdout",
     "output_type": "stream",
     "text": [
      "[{'titulo': 'Harry Potter y la piedra filosofal', 'autor': 'J.K. Rowling', 'idioma original': 'Esperanto', 'año de publicación': 1997}]\n",
      "Ese no lo tengo, ¿mola?\n",
      "Debes ingresar un título válido.\n"
     ]
    }
   ],
   "source": [
    "# Lista de libros\n",
    "libreria = [\n",
    "    {'titulo': 'Cien años de soledad', 'autor': 'Gabriel García Márquez', 'idioma original': 'Esperanto', 'año de publicación': 1967},\n",
    "    {'titulo': 'El señor de los anillos', 'autor': 'J.R.R. Tolkien', 'idioma original': 'Inglés', 'año de publicación': 1954},\n",
    "    {'titulo': 'El principito', 'autor': 'Antoine de Saint-Exupéry', 'idioma original': 'Francés', 'año de publicación': 1943},\n",
    "   {'titulo': 'Harry Potter y la piedra filosofal', 'autor': 'J.K. Rowling', 'idioma original': 'Esperanto', 'año de publicación': 1997}\n",
    "]\n",
    "\n",
    "# Función para buscar un libro por su título\n",
    "def buscar_libro(libreria, titulo=\"ninguno\"):\n",
    "    if titulo.lower() == \"ninguno\":\n",
    "        return \"Debes ingresar un título válido.\"\n",
    "    \n",
    "    libros_encontrados = [libro for libro in libreria if libro[\"titulo\"].lower() == titulo.lower()]\n",
    "    \n",
    "    return libros_encontrados if libros_encontrados else \"Ese no lo tengo, ¿mola?\"\n",
    "\n",
    "# Pruebas\n",
    "print(buscar_libro(libreria, titulo=\"Harry Potter y la piedra filosofal\"))\n",
    "print(buscar_libro(libreria, titulo=\"El gran Gatsby\"))\n",
    "print(buscar_libro(libreria))  # Sin título\n"
   ]
  },
  {
   "cell_type": "markdown",
   "metadata": {
    "id": "FtJir95QRWxK"
   },
   "source": [
    "## Ejercicio 12\n",
    "Solicitar al usuario que ingrese su dirección email. Imprimir un mensaje indicando si la dirección es válida o no, valiéndose de una función para decidirlo. Una dirección se considerará válida si contiene el símbolo \"@\"."
   ]
  },
  {
   "cell_type": "code",
   "execution_count": 37,
   "metadata": {
    "id": "sk852IZ8RWxK"
   },
   "outputs": [
    {
     "name": "stdin",
     "output_type": "stream",
     "text": [
      "Ingresa tu dirección de email:  n@hhh.com\n"
     ]
    },
    {
     "name": "stdout",
     "output_type": "stream",
     "text": [
      "La dirección de email es válida.\n"
     ]
    }
   ],
   "source": [
    "# Función para validar el email\n",
    "def es_email_valido(email):\n",
    "    return \"@\" in email\n",
    "\n",
    "# Solicitar email al usuario\n",
    "email_usuario = input(\"Ingresa tu dirección de email: \")\n",
    "\n",
    "# Verificar y mostrar el resultado\n",
    "if es_email_valido(email_usuario):\n",
    "    print(\"La dirección de email es válida.\")\n",
    "else:\n",
    "    print(\"La dirección de email no es válida.\")"
   ]
  },
  {
   "cell_type": "markdown",
   "metadata": {
    "id": "Kw1MWBwBRWxK"
   },
   "source": [
    "## Ejercicio 13\n",
    "Escribe una función que compruebe si un DNI es válido, devolviendo `True` en caso afirmativo.  \n",
    "En primer lugar, el DNI debe tener entre 7 y 8 dígitos numéricos.  \n",
    "Para saber si la letra del DNI es correcta puedes utilizar el siguiente fragmento de código:\n",
    ">```Python\n",
    ">DNI= 55555555\n",
    ">palabra='TRWAGMYFPDXBNJZSQVHLCKE'\n",
    ">print('La letra del DNI es: ', palabra[DNI%23])\n",
    ">````\n"
   ]
  },
  {
   "cell_type": "code",
   "execution_count": 69,
   "metadata": {},
   "outputs": [
    {
     "name": "stdin",
     "output_type": "stream",
     "text": [
      "Introduce un DNI (8 dígitos seguidos de una letra):  123456789C\n"
     ]
    },
    {
     "name": "stdout",
     "output_type": "stream",
     "text": [
      "El DNI 123456789C no es válido.\n"
     ]
    }
   ],
   "source": [
    "def es_dni_valido(dni):\n",
    "    # Comprobamos que el DNI tenga entre 8 y 9 caracteres\n",
    "    if len(dni) < 8 or len(dni) > 9:\n",
    "        return False\n",
    "    \n",
    "    # Verificamos que los primeros 8 caracteres sean dígitos\n",
    "    if not dni[:-1].isdigit():\n",
    "        return False\n",
    "    \n",
    "    # La última letra debe ser una letra, no un número\n",
    "    if not dni[-1].isalpha():\n",
    "        return False\n",
    "    \n",
    "    # Extraemos los números y la letra del DNI\n",
    "    numero_dni = int(dni[:-1])  # Los primeros 8 dígitos\n",
    "    letra_dni = dni[-1].upper()  # Convertimos la letra a mayúsculas\n",
    "\n",
    "    # Lista de letras correspondientes a los números del DNI \n",
    "    palabra = 'TRWAGMYFPDXBNJZSQVHLCKE'\n",
    "\n",
    "    # Calculamos la letra esperada usando el algoritmo proporcionado\n",
    "    letra_calculada = palabra[numero_dni % 23]\n",
    "\n",
    "    # Comparamos la letra calculada con la letra del DNI proporcionado\n",
    "    return letra_calculada == letra_dni\n",
    "\n",
    "\n",
    "\n",
    "# comprobación\n",
    "dni_input = input(\"Introduce un DNI (8 dígitos seguidos de una letra): \")\n",
    "if es_dni_valido(dni_input):\n",
    "    print(f\"El DNI {dni_input} es válido.\")\n",
    "else:\n",
    "    print(f\"El DNI {dni_input} no es válido.\")\n"
   ]
  },
  {
   "cell_type": "code",
   "execution_count": null,
   "metadata": {},
   "outputs": [],
   "source": []
  }
 ],
 "metadata": {
  "colab": {
   "provenance": []
  },
  "kernelspec": {
   "display_name": "Python 3 (ipykernel)",
   "language": "python",
   "name": "python3"
  },
  "language_info": {
   "codemirror_mode": {
    "name": "ipython",
    "version": 3
   },
   "file_extension": ".py",
   "mimetype": "text/x-python",
   "name": "python",
   "nbconvert_exporter": "python",
   "pygments_lexer": "ipython3",
   "version": "3.13.1"
  }
 },
 "nbformat": 4,
 "nbformat_minor": 4
}

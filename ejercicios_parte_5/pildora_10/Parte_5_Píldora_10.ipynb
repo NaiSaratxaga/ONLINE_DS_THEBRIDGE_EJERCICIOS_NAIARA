{
 "cells": [
  {
   "cell_type": "markdown",
   "metadata": {
    "id": "Qjlujsk53ZY6"
   },
   "source": [
    "<img src=\"https://campusvirtual.thebridge.tech/pluginfile.php/1/core_admin/logocompact/300x300/1734003960/logo.png\" alt=\"Logo Thr Bridge\" width=\"300\"> <img src=\"https://upload.wikimedia.org/wikipedia/commons/c/c3/Python-logo-notext.svg\" alt=\"Logo Python\" width=\"100\">\n"
   ]
  },
  {
   "cell_type": "markdown",
   "metadata": {
    "id": "zpjQwUXk3ZY9"
   },
   "source": [
    "##  Argumentos clave-valor"
   ]
  },
  {
   "cell_type": "markdown",
   "metadata": {
    "id": "gxwlUOS73ZY9"
   },
   "source": [
    "### Contenidos"
   ]
  },
  {
   "cell_type": "markdown",
   "metadata": {
    "id": "xcto6BC63ZY9"
   },
   "source": [
    "* [Combinar `*args` con `**kwargs`](#Combinar-`*args`-con-`**kwargs`)\n",
    "* [Argumentos keyword](#Argumentos-keyword)\n"
   ]
  },
  {
   "cell_type": "markdown",
   "metadata": {
    "id": "mboKtzmf3ZY-"
   },
   "source": [
    "\n",
    "Para terminar con las diferentes posibilidades que ofrecen los argumentos de las funciones, vamos a tratar los argumentos clave-valor.  \n",
    "\n",
    "Es decir, tenemos también la opción de introducir un diccionario como argumentos, de esta forma, aunque el numero de argumentos sea variable, tendremos un inidicador, la clave, y el valor de cada clave.\n",
    "\n",
    "Se implementa con `**`"
   ]
  },
  {
   "cell_type": "code",
   "execution_count": 4,
   "metadata": {
    "id": "mM0pj8Eo3ZY-"
   },
   "outputs": [
    {
     "name": "stdout",
     "output_type": "stream",
     "text": [
      "<class 'dict'>\n",
      "{'modelo': 'S20', 'marca': 'Samsung', 'camara': '24MPX'}\n"
     ]
    }
   ],
   "source": [
    "def insertar_movil_bd(**clave_valor):\n",
    "    print(type(clave_valor))\n",
    "    print(clave_valor)\n",
    "\n",
    "insertar_movil_bd( modelo = \"S20\", marca = \"Samsung\", camara = \"24MPX\")"
   ]
  },
  {
   "cell_type": "code",
   "execution_count": 8,
   "metadata": {},
   "outputs": [
    {
     "name": "stdout",
     "output_type": "stream",
     "text": [
      "marca : Samsung\n",
      "modelo : S20\n",
      "camara : 24MPX\n",
      "flip : True\n"
     ]
    }
   ],
   "source": [
    "def insertar_movil_bd(**kwargs):\n",
    "    for clave, valor in kwargs.items():\n",
    "        #insertar(clave,valor)\n",
    "        print(clave,\":\",valor)\n",
    "\n",
    "insertar_movil_bd(marca = \"Samsung\", modelo = \"S20\", camara = \"24MPX\", flip = True)    \n",
    "    "
   ]
  },
  {
   "cell_type": "markdown",
   "metadata": {
    "id": "3ztHRlC23ZY_"
   },
   "source": [
    "### Combinar `*args` con `**kwargs`\n",
    "[al indice](#Contenidos)  \n",
    "No hay ningun problema en tener un numero variable de argumentos y también argumentos clave-valor, todo ello en la misma función."
   ]
  },
  {
   "cell_type": "code",
   "execution_count": 14,
   "metadata": {
    "id": "F2zfDT0l3ZY_",
    "scrolled": true
   },
   "outputs": [
    {
     "name": "stdout",
     "output_type": "stream",
     "text": [
      "<class 'tuple'>\n",
      "Es muy bueno\n",
      "no dura lo suficiente la bateria\n",
      "<class 'dict'>\n",
      "marca Samsung\n",
      "modelo S20\n",
      "camara 24MPX\n",
      "flip True\n"
     ]
    }
   ],
   "source": [
    "def insertar_movil(*args, **kwargs):\n",
    "    print(type(args))\n",
    "    for i in args:\n",
    "        print(i)\n",
    "\n",
    "    print(type(kwargs))\n",
    "    for clave, valor in kwargs.items():\n",
    "        print(clave,valor)\n",
    "        \n",
    "insertar_movil(\"Es muy bueno\", \"no dura lo suficiente la bateria\", marca = \"Samsung\", modelo = \"S20\", camara = \"24MPX\", flip = True)\n",
    "    "
   ]
  },
  {
   "cell_type": "code",
   "execution_count": 15,
   "metadata": {},
   "outputs": [
    {
     "ename": "SyntaxError",
     "evalue": "arguments cannot follow var-keyword argument (4061382014.py, line 1)",
     "output_type": "error",
     "traceback": [
      "\u001b[0;36m  Cell \u001b[0;32mIn[15], line 1\u001b[0;36m\u001b[0m\n\u001b[0;31m    def test(**kwargs, *args):\u001b[0m\n\u001b[0m                       ^\u001b[0m\n\u001b[0;31mSyntaxError\u001b[0m\u001b[0;31m:\u001b[0m arguments cannot follow var-keyword argument\n"
     ]
    }
   ],
   "source": [
    "def test(**kwargs, *args):\n",
    "    print(\"test\")"
   ]
  },
  {
   "cell_type": "markdown",
   "metadata": {
    "id": "pq4R5Ef03ZY_"
   },
   "source": [
    "### Argumentos keyword\n",
    "[al indice](#Contenidos)  \n",
    "Existe otro tipo de argumentos que son los *keyword*. Se caracterizan porque llevan un valor por defecto, y por tanto, si no usamos dicho argumento en la llamada, dentro de la función tomará el valor que hayamos dejado por defecto.\n",
    "\n",
    "Ten en cuenta que estos argumentos se colocan **al final**"
   ]
  },
  {
   "cell_type": "code",
   "execution_count": 17,
   "metadata": {
    "id": "1sdfvQax3ZZA"
   },
   "outputs": [
    {
     "data": {
      "text/plain": [
       "12.57"
      ]
     },
     "execution_count": 17,
     "metadata": {},
     "output_type": "execute_result"
    }
   ],
   "source": [
    "round (12.56568, ndigits=2)"
   ]
  },
  {
   "cell_type": "code",
   "execution_count": 18,
   "metadata": {},
   "outputs": [
    {
     "data": {
      "text/plain": [
       "[87, 56, 24, 12, 3]"
      ]
     },
     "execution_count": 18,
     "metadata": {},
     "output_type": "execute_result"
    }
   ],
   "source": [
    "sorted([12,3,24,56,87], reverse = True)"
   ]
  },
  {
   "cell_type": "code",
   "execution_count": 21,
   "metadata": {},
   "outputs": [
    {
     "name": "stdout",
     "output_type": "stream",
     "text": [
      "Su pedido de Televisión LG se entregará el 12/12/2025\n",
      "Pongase en contacto con Att. al cliente\n",
      "Su pedido de iMac 27 se entregará el 10/11/2025\n"
     ]
    }
   ],
   "source": [
    "def pedido_online(pedido, fecha, incidencia = False):\n",
    "    if incidencia == True:\n",
    "        print(\"Pongase en contacto con Att. al cliente\")\n",
    "    print(\"Su pedido de\", pedido, \"se entregará el\", fecha)\n",
    "\n",
    "pedido_online(\"Televisión LG\", \"12/12/2025\")\n",
    "pedido_online(\"iMac 27\", \"10/11/2025\", incidencia = True )\n"
   ]
  },
  {
   "cell_type": "markdown",
   "metadata": {
    "id": "2dRdYkec3ZZA"
   },
   "source": [
    "<table align=\"left\">\n",
    " <tr>\n",
    "     <td style=\"text-align:left\">\n",
    "         <h3>ERRORES con argumentos keyword</h3>\n",
    "         \n",
    " </td></tr>\n",
    "</table>"
   ]
  },
  {
   "cell_type": "code",
   "execution_count": 23,
   "metadata": {
    "id": "_WzSXFWI3ZZA"
   },
   "outputs": [
    {
     "ename": "SyntaxError",
     "evalue": "parameter without a default follows parameter with a default (1729332140.py, line 1)",
     "output_type": "error",
     "traceback": [
      "\u001b[0;36m  Cell \u001b[0;32mIn[23], line 1\u001b[0;36m\u001b[0m\n\u001b[0;31m    def pedido_online(pedido, incidencia = False, fecha):\u001b[0m\n\u001b[0m                                                  ^\u001b[0m\n\u001b[0;31mSyntaxError\u001b[0m\u001b[0;31m:\u001b[0m parameter without a default follows parameter with a default\n"
     ]
    }
   ],
   "source": [
    "def pedido_online(pedido, incidencia = False, fecha):\n",
    "    if incidencia == True:\n",
    "        print(\"Pongase en contacto con Att. al cliente\")\n",
    "    print(\"Su pedido de\", pedido, \"se entregará el\", fecha)"
   ]
  },
  {
   "cell_type": "code",
   "execution_count": null,
   "metadata": {},
   "outputs": [],
   "source": []
  }
 ],
 "metadata": {
  "colab": {
   "provenance": []
  },
  "kernelspec": {
   "display_name": "Python 3 (ipykernel)",
   "language": "python",
   "name": "python3"
  },
  "language_info": {
   "codemirror_mode": {
    "name": "ipython",
    "version": 3
   },
   "file_extension": ".py",
   "mimetype": "text/x-python",
   "name": "python",
   "nbconvert_exporter": "python",
   "pygments_lexer": "ipython3",
   "version": "3.13.1"
  }
 },
 "nbformat": 4,
 "nbformat_minor": 4
}

{
 "cells": [
  {
   "cell_type": "markdown",
   "metadata": {
    "id": "Bh4w4s1knLOy"
   },
   "source": [
    "<img src=\"https://campusvirtual.thebridge.tech/pluginfile.php/1/core_admin/logocompact/300x300/1734003960/logo.png\" alt=\"Logo Thr Bridge\" width=\"300\"> <img src=\"https://upload.wikimedia.org/wikipedia/commons/c/c3/Python-logo-notext.svg\" alt=\"Logo Python\" width=\"100\">\n"
   ]
  },
  {
   "cell_type": "markdown",
   "metadata": {
    "id": "_hHmyF9snLO1"
   },
   "source": [
    "## Colecciones Python: Diccionarios\n"
   ]
  },
  {
   "cell_type": "markdown",
   "metadata": {
    "id": "H3xSAuvVnLO2"
   },
   "source": [
    "### Contenidos\n"
   ]
  },
  {
   "cell_type": "markdown",
   "metadata": {
    "id": "60Kq7tKlnLO2"
   },
   "source": [
    "* [Introducción](#Introducción)\n",
    "\n",
    "* [Acceso, modificación, añadir, eliminar](#Acceso,-modificación,-añadir,-eliminar)\n",
    "\n",
    "* [Iterar](#Iterar)\n",
    "\n"
   ]
  },
  {
   "cell_type": "markdown",
   "metadata": {
    "id": "_q8zveZJnLO2"
   },
   "source": [
    "### Introducción\n",
    "[al indice](#Contenidos)  \n",
    "\n",
    "En este tipo de colecciones no solo podemos agrupar datos, sino que tenemos la posibilidad de establecer una relación entre los mismos, con la forma **clave: valor**.\n",
    "\n",
    "La sintaxis  es mediante llaves `{}`\n",
    "\n",
    "> nombre_diccionario = {clave1: valor1, clave2: valor2, clave3: valor3}\n",
    "\n",
    "Si veíamos que las listas son elementos mutables y y ordenadas, y las tuplas inmutables y ordenadas, los diccionarios son:\n",
    "\n",
    "* **Mutables**: podemos modificar sus elementos\n",
    "* **Desordenado**: la potencia de acceso de los diccionarios es su formato clave-valor, no su orden. Aun así, el dicionario conserva el orden de los elemento según los vamos insertando.\n",
    "\n",
    "Vamos a declarar un diccionario en el que definiremos elementos de un coche"
   ]
  },
  {
   "cell_type": "code",
   "execution_count": 30,
   "metadata": {
    "id": "sreViTt0nLO3"
   },
   "outputs": [
    {
     "data": {
      "text/plain": [
       "{'Color': 'Rojo',\n",
       " 'Marca': 'Tesla',\n",
       " 'Modelo': 'Cybertruck',\n",
       " 'Peso': 3500,\n",
       " 'Cambio automatico': True}"
      ]
     },
     "execution_count": 30,
     "metadata": {},
     "output_type": "execute_result"
    }
   ],
   "source": [
    "coche_dict = {\n",
    "    \"Color\": \"Rojo\",\n",
    "    \"Marca\": \"Tesla\",\n",
    "    \"Modelo\": \"Cybertruck\",\n",
    "    \"Peso\": 3500,\n",
    "    \"Cambio automatico\": True\n",
    "}\n",
    "coche_dict"
   ]
  },
  {
   "cell_type": "markdown",
   "metadata": {
    "id": "18LrLG3JnLO3"
   },
   "source": [
    "Se puede almacenar todo tipo de datos: numero, cadena, booleano, listas, tuplas, diccionarios...\n",
    "\n",
    "Cuando declaremos el diccionario, lo podemos hacer en una sola linea `coche = {\"color\"=\"Gris\", \"marca\"...}`, aunque se recomienda por sencillez a la hora de leer el código, realizar esta acción en varias líneas. Si escribimos el primer elemento y presionamos enter, Jupyter introduce automáticamente la tabulación."
   ]
  },
  {
   "cell_type": "markdown",
   "metadata": {
    "id": "Zi6Rct7bnLO4"
   },
   "source": [
    "### Acceso, modificación, añadir, eliminar\n",
    "[al indice](#Contenidos)  \n",
    "\n"
   ]
  },
  {
   "cell_type": "code",
   "execution_count": 14,
   "metadata": {
    "id": "zWLO_vZjnLO4"
   },
   "outputs": [
    {
     "name": "stdout",
     "output_type": "stream",
     "text": [
      "['rojo', 'gris']\n",
      "3500\n",
      "{'color': ['rojo', 'gris'], 'marca': 'Tesla', 'modelo': 'Cybertruck', 'peso': 3500, 'cambio automatico': True, 'puertas': 6}\n",
      "6\n",
      "{'color': ['rojo', 'gris'], 'marca': 'Tesla', 'modelo': 'Cybertruck', 'peso': 3500, 'cambio automatico': True}\n",
      "dict_keys(['color', 'marca', 'modelo', 'peso', 'cambio automatico'])\n",
      "dict_values([['rojo', 'gris'], 'Tesla', 'Cybertruck', 3500, True])\n"
     ]
    }
   ],
   "source": [
    "# Acceso\n",
    "print(coche_dict[\"color\"])\n",
    "print(coche_dict[\"peso\"])\n",
    "\n",
    "#print(coche_dict[\"puertas\"])\n",
    "coche_dict[\"color\"] = [\"rojo\", \"gris\"]\n",
    "coche_dict\n",
    "\n",
    "# Añadir elemento\n",
    "coche_dict[\"puertas\"] = 6\n",
    "print(coche_dict)\n",
    "print(coche_dict[\"puertas\"])\n",
    "\n",
    "# Eliminar elementos\n",
    "del coche_dict[\"puertas\"]\n",
    "print(coche_dict)\n",
    "\n",
    "# Conocer las claves del diccionario\n",
    "print(coche_dict.keys())\n",
    "\n",
    "# Conocer los valores del diccionario\n",
    "print(coche_dict.values())"
   ]
  },
  {
   "cell_type": "markdown",
   "metadata": {
    "id": "Olm9mFU-nLO4"
   },
   "source": [
    "Para más detalle de los métodos de los diccionario puedes [consultar la documentación](https://www.w3schools.com/python/python_ref_dictionary.asp)"
   ]
  },
  {
   "cell_type": "code",
   "execution_count": 16,
   "metadata": {
    "id": "DjHtYJFjnLO5"
   },
   "outputs": [
    {
     "name": "stdout",
     "output_type": "stream",
     "text": [
      "{'direccion': 'La Rua', 'tamaño': 220}\n"
     ]
    }
   ],
   "source": [
    "# Podemos empezar tambien mediante un diccionario vacío\n",
    "tienda = {}\n",
    "tienda[\"direccion\"] = \"La Rua\"\n",
    "tienda[\"tamaño\"] = 220\n",
    "print(tienda)"
   ]
  },
  {
   "cell_type": "markdown",
   "metadata": {
    "id": "d72CkktznLO5"
   },
   "source": [
    "<table align=\"left\">\n",
    " <tr>\n",
    "     <td style=\"text-align:left\">\n",
    "         <h3>ERRORES en diccionarios</h3>\n",
    "         \n",
    " </td></tr>\n",
    "</table>"
   ]
  },
  {
   "cell_type": "markdown",
   "metadata": {
    "id": "NEEF6BrEnLO6"
   },
   "source": [
    "Si hay una clave que no existe en el diccionario, saltará un error.\n",
    "\n",
    "En este caso, el error es bastante intuitivo: `KeyError`, no encuentra la clave"
   ]
  },
  {
   "cell_type": "code",
   "execution_count": 17,
   "metadata": {
    "id": "MPobbFFKnLO6"
   },
   "outputs": [
    {
     "ename": "KeyError",
     "evalue": "'puertas'",
     "output_type": "error",
     "traceback": [
      "\u001b[0;31m---------------------------------------------------------------------------\u001b[0m",
      "\u001b[0;31mKeyError\u001b[0m                                  Traceback (most recent call last)",
      "Cell \u001b[0;32mIn[17], line 1\u001b[0m\n\u001b[0;32m----> 1\u001b[0m \u001b[43mcoche_dict\u001b[49m\u001b[43m[\u001b[49m\u001b[38;5;124;43m\"\u001b[39;49m\u001b[38;5;124;43mpuertas\u001b[39;49m\u001b[38;5;124;43m\"\u001b[39;49m\u001b[43m]\u001b[49m\n",
      "\u001b[0;31mKeyError\u001b[0m: 'puertas'"
     ]
    }
   ],
   "source": [
    "coche_dict[\"puertas\"]"
   ]
  },
  {
   "cell_type": "markdown",
   "metadata": {
    "id": "rD31caNznLO6"
   },
   "source": [
    "**¿Cómo solventar esto?** Sirmpre tienes la opción de usar el bloque `try/except`, pero en este caso, los diccionarios tienen una solución más elegante: `mi_diccionario.get(clave, valor si no existe)`"
   ]
  },
  {
   "cell_type": "code",
   "execution_count": 21,
   "metadata": {
    "id": "w57jI7i7nLO6"
   },
   "outputs": [
    {
     "name": "stdout",
     "output_type": "stream",
     "text": [
      "4\n",
      "Tesla\n"
     ]
    }
   ],
   "source": [
    "numero_de_puertas = coche_dict.get(\"puertas\", 4)\n",
    "print(numero_de_puertas)\n",
    "marca = coche_dict.get(\"marca\", \"desconocida\")\n",
    "print(marca)"
   ]
  },
  {
   "cell_type": "markdown",
   "metadata": {
    "id": "Wo8G4qqUnLO6"
   },
   "source": [
    "### Iterar\n",
    "[al indice](#Contenidos)  \n",
    "\n",
    "Que el diccionario no esté ordenado, no quiere decir que no podamos iterar sus elementos, ya que también es un **interable**, como los son las listas o las tuplas."
   ]
  },
  {
   "cell_type": "code",
   "execution_count": 23,
   "metadata": {
    "id": "aa0BaSownLO6"
   },
   "outputs": [
    {
     "name": "stdout",
     "output_type": "stream",
     "text": [
      "color\n",
      "['rojo', 'gris']\n",
      "marca\n",
      "Tesla\n",
      "modelo\n",
      "Cybertruck\n",
      "peso\n",
      "3500\n",
      "cambio automatico\n",
      "True\n"
     ]
    }
   ],
   "source": [
    "for i in coche_dict:\n",
    "    print(i)\n",
    "    print(coche_dict[i])"
   ]
  },
  {
   "cell_type": "code",
   "execution_count": 26,
   "metadata": {
    "id": "IdObJYHnnLO6"
   },
   "outputs": [
    {
     "name": "stdout",
     "output_type": "stream",
     "text": [
      "color : ['rojo', 'gris']\n",
      "marca : Tesla\n",
      "modelo : Cybertruck\n",
      "peso : 3500\n",
      "cambio automatico : True\n"
     ]
    }
   ],
   "source": [
    "for i in coche_dict:\n",
    "    print(i,\":\", coche_dict[i])"
   ]
  },
  {
   "cell_type": "code",
   "execution_count": 27,
   "metadata": {},
   "outputs": [
    {
     "data": {
      "text/plain": [
       "dict_items([('color', ['rojo', 'gris']), ('marca', 'Tesla'), ('modelo', 'Cybertruck'), ('peso', 3500), ('cambio automatico', True)])"
      ]
     },
     "execution_count": 27,
     "metadata": {},
     "output_type": "execute_result"
    }
   ],
   "source": [
    "coche_dict.items()"
   ]
  },
  {
   "cell_type": "code",
   "execution_count": 31,
   "metadata": {},
   "outputs": [
    {
     "name": "stdout",
     "output_type": "stream",
     "text": [
      "Color : Rojo\n",
      "Marca : Tesla\n",
      "Modelo : Cybertruck\n",
      "Peso : 3500\n",
      "Cambio automatico : True\n"
     ]
    }
   ],
   "source": [
    "for clave,valor in coche_dict.items():\n",
    "    print(clave,\":\",valor)"
   ]
  },
  {
   "cell_type": "code",
   "execution_count": null,
   "metadata": {},
   "outputs": [],
   "source": []
  }
 ],
 "metadata": {
  "colab": {
   "provenance": []
  },
  "kernelspec": {
   "display_name": "Python 3 (ipykernel)",
   "language": "python",
   "name": "python3"
  },
  "language_info": {
   "codemirror_mode": {
    "name": "ipython",
    "version": 3
   },
   "file_extension": ".py",
   "mimetype": "text/x-python",
   "name": "python",
   "nbconvert_exporter": "python",
   "pygments_lexer": "ipython3",
   "version": "3.13.1"
  }
 },
 "nbformat": 4,
 "nbformat_minor": 4
}
